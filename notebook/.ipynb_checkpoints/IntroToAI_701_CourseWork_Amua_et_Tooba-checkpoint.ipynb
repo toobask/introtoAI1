{
 "cells": [
  {
   "cell_type": "markdown",
   "metadata": {
    "colab_type": "text",
    "id": "view-in-github"
   },
   "source": [
    "<a href=\"https://colab.research.google.com/github/toobask/introtoAI1/blob/main/IntroToAI_701_CourseWork_Amua_et_Tooba.ipynb\" target=\"_parent\"><img src=\"https://colab.research.google.com/assets/colab-badge.svg\" alt=\"Open In Colab\"/></a>"
   ]
  },
  {
   "cell_type": "markdown",
   "metadata": {
    "id": "QqDA16-2el3z"
   },
   "source": [
    "## Import Necessary Libraries & Dependencies"
   ]
  },
  {
   "cell_type": "code",
   "execution_count": 1,
   "metadata": {
    "id": "FimrlMshd6zT"
   },
   "outputs": [],
   "source": [
    "import pandas as pd\n",
    "import numpy as np\n",
    "\n",
    "from sklearn.preprocessing  import StandardScaler\n",
    "from sklearn.model_selection import train_test_split, KFold, GridSearchCV\n",
    "\n",
    "from sklearn.linear_model import LinearRegression\n",
    "from sklearn.tree import DecisionTreeRegressor\n",
    "from sklearn.ensemble import RandomForestRegressor\n",
    "from sklearn.neighbors import KNeighborsRegressor\n",
    "from sklearn.metrics import mean_squared_error, r2_score\n",
    "\n",
    "import matplotlib.pyplot as plt\n",
    "import seaborn as sns; sns.set()\n",
    "\n",
    "import warnings\n",
    "warnings.filterwarnings('ignore')"
   ]
  },
  {
   "cell_type": "markdown",
   "metadata": {
    "id": "rdtcy2ayel30"
   },
   "source": [
    "## Data Loading, Exploration, & Preprocessing"
   ]
  },
  {
   "cell_type": "markdown",
   "metadata": {},
   "source": [
    "### Load Data"
   ]
  },
  {
   "cell_type": "code",
   "execution_count": 5,
   "metadata": {
    "id": "FmIcVd3KeKJE"
   },
   "outputs": [],
   "source": [
    "#load vehicle dataset\n",
    "#vehicle_df = pd.read_csv(\"../dataset/vehicle_data.csv\")\n",
    "vehicle_df = pd.read_csv(\"https://raw.githubusercontent.com/toobask/introtoAI1/main/dataset/vehicle_data.csv\")"
   ]
  },
  {
   "cell_type": "code",
   "execution_count": 6,
   "metadata": {
    "colab": {
     "base_uri": "https://localhost:8080/",
     "height": 256
    },
    "id": "AvLyNm9CerwX",
    "outputId": "cf5bbe6c-dd91-4b5b-b497-79ae84191bc1"
   },
   "outputs": [
    {
     "name": "stdout",
     "output_type": "stream",
     "text": [
      "This dataframe contains 123971 rows and 19 columns.\n"
     ]
    }
   ],
   "source": [
    "#check shape of df\n",
    "vehicle_df.shape\n",
    "print(f\"This dataframe contains {vehicle_df.shape[0]} rows and {vehicle_df.shape[1]} columns.\")"
   ]
  },
  {
   "cell_type": "code",
   "execution_count": 7,
   "metadata": {
    "colab": {
     "base_uri": "https://localhost:8080/"
    },
    "id": "OxIg8LvWiubo",
    "outputId": "b1f66e82-d485-4f6f-c76e-8d3475a91866"
   },
   "outputs": [
    {
     "data": {
      "text/html": [
       "<div>\n",
       "<style scoped>\n",
       "    .dataframe tbody tr th:only-of-type {\n",
       "        vertical-align: middle;\n",
       "    }\n",
       "\n",
       "    .dataframe tbody tr th {\n",
       "        vertical-align: top;\n",
       "    }\n",
       "\n",
       "    .dataframe thead th {\n",
       "        text-align: right;\n",
       "    }\n",
       "</style>\n",
       "<table border=\"1\" class=\"dataframe\">\n",
       "  <thead>\n",
       "    <tr style=\"text-align: right;\">\n",
       "      <th></th>\n",
       "      <th>Title</th>\n",
       "      <th>Sub_title</th>\n",
       "      <th>Price</th>\n",
       "      <th>Brand</th>\n",
       "      <th>Model</th>\n",
       "      <th>Edition</th>\n",
       "      <th>Year</th>\n",
       "      <th>Condition</th>\n",
       "      <th>Transmission</th>\n",
       "      <th>Body</th>\n",
       "      <th>Fuel</th>\n",
       "      <th>Capacity</th>\n",
       "      <th>Mileage</th>\n",
       "      <th>Location</th>\n",
       "      <th>Description</th>\n",
       "      <th>Post_URL</th>\n",
       "      <th>Seller_name</th>\n",
       "      <th>Seller_type</th>\n",
       "      <th>published_date</th>\n",
       "    </tr>\n",
       "  </thead>\n",
       "  <tbody>\n",
       "    <tr>\n",
       "      <th>0</th>\n",
       "      <td>Honda Vezel Limited 2017 for sale</td>\n",
       "      <td>Posted on 01 Sep 2:45 pm, Kurunegala City, Kur...</td>\n",
       "      <td>Rs 12,900,000</td>\n",
       "      <td>Honda</td>\n",
       "      <td>Vezel</td>\n",
       "      <td>Limited</td>\n",
       "      <td>2017</td>\n",
       "      <td>Used</td>\n",
       "      <td>Automatic</td>\n",
       "      <td>SUV / 4x4</td>\n",
       "      <td>Hybrid</td>\n",
       "      <td>1,500 cc</td>\n",
       "      <td>37,000 km</td>\n",
       "      <td>Kurunegala City,  Kurunegala</td>\n",
       "      <td>HONDA VEZEL LIMITEDCBE-XXXXMANU YEAR : 2017LIM...</td>\n",
       "      <td>https://ikman.lk/en/ad/honda-vezel-limited-201...</td>\n",
       "      <td>Prasad Enterprises</td>\n",
       "      <td>Premium-Member</td>\n",
       "      <td>2022-09-01 14:45:00</td>\n",
       "    </tr>\n",
       "    <tr>\n",
       "      <th>1</th>\n",
       "      <td>Jaguar XF Fully Loaded 2013 for sale</td>\n",
       "      <td>Posted on 28 Sep 10:23 am, Kurunegala City, Ku...</td>\n",
       "      <td>Rs 16,250,000</td>\n",
       "      <td>Jaguar</td>\n",
       "      <td>XF</td>\n",
       "      <td>Fully Loaded</td>\n",
       "      <td>2013</td>\n",
       "      <td>Used</td>\n",
       "      <td>Automatic</td>\n",
       "      <td>Saloon</td>\n",
       "      <td>Diesel</td>\n",
       "      <td>2,200 cc</td>\n",
       "      <td>42,000 km</td>\n",
       "      <td>Kurunegala City,  Kurunegala</td>\n",
       "      <td>1st owner(registered owner)Diesel(13-14km per ...</td>\n",
       "      <td>https://ikman.lk/en/ad/jaguar-xf-fully-loaded-...</td>\n",
       "      <td>Dhanushka Dharmasri</td>\n",
       "      <td>Member</td>\n",
       "      <td>2022-09-28 10:23:00</td>\n",
       "    </tr>\n",
       "    <tr>\n",
       "      <th>2</th>\n",
       "      <td>Toyota CHR GT New Face 2wd 2020 for sale</td>\n",
       "      <td>Posted on 16 Sep 1:16 pm, Colombo 7, Colombo</td>\n",
       "      <td>Rs 17,000,000</td>\n",
       "      <td>Toyota</td>\n",
       "      <td>CHR</td>\n",
       "      <td>GT New Face 2wd</td>\n",
       "      <td>2020</td>\n",
       "      <td>Used</td>\n",
       "      <td>Automatic</td>\n",
       "      <td>SUV / 4x4</td>\n",
       "      <td>Petrol</td>\n",
       "      <td>1,200 cc</td>\n",
       "      <td>15,000 km</td>\n",
       "      <td>Colombo 7,  Colombo</td>\n",
       "      <td>2020 Facelift modelFirst owner (No previous ow...</td>\n",
       "      <td>https://ikman.lk/en/ad/toyota-chr-gt-new-face-...</td>\n",
       "      <td>Carzone Lanka</td>\n",
       "      <td>Member</td>\n",
       "      <td>2022-09-16 13:16:00</td>\n",
       "    </tr>\n",
       "    <tr>\n",
       "      <th>3</th>\n",
       "      <td>Toyota CHR Toyato 2017 for sale</td>\n",
       "      <td>Posted on 30 Sep 10:12 am, Colombo 7, Colombo</td>\n",
       "      <td>Rs 13,000,000</td>\n",
       "      <td>Toyota</td>\n",
       "      <td>CHR</td>\n",
       "      <td>Toyato</td>\n",
       "      <td>2017</td>\n",
       "      <td>Used</td>\n",
       "      <td>Automatic</td>\n",
       "      <td>SUV / 4x4</td>\n",
       "      <td>Petrol</td>\n",
       "      <td>1,200 cc</td>\n",
       "      <td>21,000 km</td>\n",
       "      <td>Colombo 7,  Colombo</td>\n",
       "      <td>Toyota CHR GT Turbo1st owner Imported as a bra...</td>\n",
       "      <td>https://ikman.lk/en/ad/toyota-chr-toyato-2017-...</td>\n",
       "      <td>Carzone Lanka</td>\n",
       "      <td>Member</td>\n",
       "      <td>2022-09-30 10:12:00</td>\n",
       "    </tr>\n",
       "    <tr>\n",
       "      <th>4</th>\n",
       "      <td>Toyota Land Cruiser Prado 2015 for sale</td>\n",
       "      <td>Posted on 30 Sep 9:50 pm, Kelaniya, Gampaha</td>\n",
       "      <td>Rs 33,500,000</td>\n",
       "      <td>Toyota</td>\n",
       "      <td>Land Cruiser Prado</td>\n",
       "      <td>prado</td>\n",
       "      <td>2015</td>\n",
       "      <td>Used</td>\n",
       "      <td>Automatic</td>\n",
       "      <td>SUV / 4x4</td>\n",
       "      <td>Petrol</td>\n",
       "      <td>2,700 cc</td>\n",
       "      <td>57,000 km</td>\n",
       "      <td>Kelaniya,  Gampaha</td>\n",
       "      <td>Toyota Land Cruiser Prado 20152 nd Owner for 5...</td>\n",
       "      <td>https://ikman.lk/en/ad/toyota-land-cruiser-pra...</td>\n",
       "      <td>Shine Music Center</td>\n",
       "      <td>Member</td>\n",
       "      <td>2022-09-30 21:50:00</td>\n",
       "    </tr>\n",
       "  </tbody>\n",
       "</table>\n",
       "</div>"
      ],
      "text/plain": [
       "                                      Title  \\\n",
       "0         Honda Vezel Limited 2017 for sale   \n",
       "1      Jaguar XF Fully Loaded 2013 for sale   \n",
       "2  Toyota CHR GT New Face 2wd 2020 for sale   \n",
       "3           Toyota CHR Toyato 2017 for sale   \n",
       "4   Toyota Land Cruiser Prado 2015 for sale   \n",
       "\n",
       "                                           Sub_title          Price   Brand  \\\n",
       "0  Posted on 01 Sep 2:45 pm, Kurunegala City, Kur...  Rs 12,900,000   Honda   \n",
       "1  Posted on 28 Sep 10:23 am, Kurunegala City, Ku...  Rs 16,250,000  Jaguar   \n",
       "2       Posted on 16 Sep 1:16 pm, Colombo 7, Colombo  Rs 17,000,000  Toyota   \n",
       "3      Posted on 30 Sep 10:12 am, Colombo 7, Colombo  Rs 13,000,000  Toyota   \n",
       "4        Posted on 30 Sep 9:50 pm, Kelaniya, Gampaha  Rs 33,500,000  Toyota   \n",
       "\n",
       "                Model          Edition  Year Condition Transmission  \\\n",
       "0               Vezel          Limited  2017      Used    Automatic   \n",
       "1                  XF     Fully Loaded  2013      Used    Automatic   \n",
       "2                 CHR  GT New Face 2wd  2020      Used    Automatic   \n",
       "3                 CHR           Toyato  2017      Used    Automatic   \n",
       "4  Land Cruiser Prado            prado  2015      Used    Automatic   \n",
       "\n",
       "        Body    Fuel  Capacity    Mileage                       Location  \\\n",
       "0  SUV / 4x4  Hybrid  1,500 cc  37,000 km   Kurunegala City,  Kurunegala   \n",
       "1     Saloon  Diesel  2,200 cc  42,000 km   Kurunegala City,  Kurunegala   \n",
       "2  SUV / 4x4  Petrol  1,200 cc  15,000 km            Colombo 7,  Colombo   \n",
       "3  SUV / 4x4  Petrol  1,200 cc  21,000 km            Colombo 7,  Colombo   \n",
       "4  SUV / 4x4  Petrol  2,700 cc  57,000 km             Kelaniya,  Gampaha   \n",
       "\n",
       "                                         Description  \\\n",
       "0  HONDA VEZEL LIMITEDCBE-XXXXMANU YEAR : 2017LIM...   \n",
       "1  1st owner(registered owner)Diesel(13-14km per ...   \n",
       "2  2020 Facelift modelFirst owner (No previous ow...   \n",
       "3  Toyota CHR GT Turbo1st owner Imported as a bra...   \n",
       "4  Toyota Land Cruiser Prado 20152 nd Owner for 5...   \n",
       "\n",
       "                                            Post_URL          Seller_name  \\\n",
       "0  https://ikman.lk/en/ad/honda-vezel-limited-201...   Prasad Enterprises   \n",
       "1  https://ikman.lk/en/ad/jaguar-xf-fully-loaded-...  Dhanushka Dharmasri   \n",
       "2  https://ikman.lk/en/ad/toyota-chr-gt-new-face-...        Carzone Lanka   \n",
       "3  https://ikman.lk/en/ad/toyota-chr-toyato-2017-...        Carzone Lanka   \n",
       "4  https://ikman.lk/en/ad/toyota-land-cruiser-pra...   Shine Music Center   \n",
       "\n",
       "      Seller_type       published_date  \n",
       "0  Premium-Member  2022-09-01 14:45:00  \n",
       "1          Member  2022-09-28 10:23:00  \n",
       "2          Member  2022-09-16 13:16:00  \n",
       "3          Member  2022-09-30 10:12:00  \n",
       "4          Member  2022-09-30 21:50:00  "
      ]
     },
     "execution_count": 7,
     "metadata": {},
     "output_type": "execute_result"
    }
   ],
   "source": [
    "#view first 5 rows\n",
    "vehicle_df[:5]"
   ]
  },
  {
   "cell_type": "code",
   "execution_count": 8,
   "metadata": {
    "colab": {
     "base_uri": "https://localhost:8080/"
    },
    "id": "MHqoIX4pky58",
    "outputId": "ddd37856-0d3c-4fde-c094-00149c5bd7f9"
   },
   "outputs": [
    {
     "data": {
      "text/plain": [
       "Index(['Title', 'Sub_title', 'Price', 'Brand', 'Model', 'Edition', 'Year',\n",
       "       'Condition', 'Transmission', 'Body', 'Fuel', 'Capacity', 'Mileage',\n",
       "       'Location', 'Description', 'Post_URL', 'Seller_name', 'Seller_type',\n",
       "       'published_date'],\n",
       "      dtype='object')"
      ]
     },
     "execution_count": 8,
     "metadata": {},
     "output_type": "execute_result"
    }
   ],
   "source": [
    "#display column names\n",
    "vehicle_df.columns"
   ]
  },
  {
   "cell_type": "markdown",
   "metadata": {},
   "source": [
    "### EDA\n",
    "\n",
    "Here, we explore individual features."
   ]
  },
  {
   "cell_type": "markdown",
   "metadata": {},
   "source": [
    "#### Title & Sub-title"
   ]
  },
  {
   "cell_type": "code",
   "execution_count": 11,
   "metadata": {},
   "outputs": [
    {
     "data": {
      "text/html": [
       "<div>\n",
       "<style scoped>\n",
       "    .dataframe tbody tr th:only-of-type {\n",
       "        vertical-align: middle;\n",
       "    }\n",
       "\n",
       "    .dataframe tbody tr th {\n",
       "        vertical-align: top;\n",
       "    }\n",
       "\n",
       "    .dataframe thead th {\n",
       "        text-align: right;\n",
       "    }\n",
       "</style>\n",
       "<table border=\"1\" class=\"dataframe\">\n",
       "  <thead>\n",
       "    <tr style=\"text-align: right;\">\n",
       "      <th></th>\n",
       "      <th>Title</th>\n",
       "      <th>Sub_title</th>\n",
       "    </tr>\n",
       "  </thead>\n",
       "  <tbody>\n",
       "    <tr>\n",
       "      <th>0</th>\n",
       "      <td>Honda Vezel Limited 2017 for sale</td>\n",
       "      <td>Posted on 01 Sep 2:45 pm, Kurunegala City, Kur...</td>\n",
       "    </tr>\n",
       "    <tr>\n",
       "      <th>1</th>\n",
       "      <td>Jaguar XF Fully Loaded 2013 for sale</td>\n",
       "      <td>Posted on 28 Sep 10:23 am, Kurunegala City, Ku...</td>\n",
       "    </tr>\n",
       "    <tr>\n",
       "      <th>2</th>\n",
       "      <td>Toyota CHR GT New Face 2wd 2020 for sale</td>\n",
       "      <td>Posted on 16 Sep 1:16 pm, Colombo 7, Colombo</td>\n",
       "    </tr>\n",
       "    <tr>\n",
       "      <th>3</th>\n",
       "      <td>Toyota CHR Toyato 2017 for sale</td>\n",
       "      <td>Posted on 30 Sep 10:12 am, Colombo 7, Colombo</td>\n",
       "    </tr>\n",
       "    <tr>\n",
       "      <th>4</th>\n",
       "      <td>Toyota Land Cruiser Prado 2015 for sale</td>\n",
       "      <td>Posted on 30 Sep 9:50 pm, Kelaniya, Gampaha</td>\n",
       "    </tr>\n",
       "    <tr>\n",
       "      <th>...</th>\n",
       "      <td>...</td>\n",
       "      <td>...</td>\n",
       "    </tr>\n",
       "    <tr>\n",
       "      <th>123966</th>\n",
       "      <td>Honda Insight Ze3 2012</td>\n",
       "      <td>Posted by Duminda on 2021-11-04 11:41 pm, Ja-Ela</td>\n",
       "    </tr>\n",
       "    <tr>\n",
       "      <th>123967</th>\n",
       "      <td>HINO Dutro 2011 Lorry</td>\n",
       "      <td>Posted by Areej on 2021-11-04 11:39 pm, Colombo</td>\n",
       "    </tr>\n",
       "    <tr>\n",
       "      <th>123968</th>\n",
       "      <td>TVS King 2017 Three</td>\n",
       "      <td>Posted by Safan on 2021-11-04 11:38 pm, Colombo</td>\n",
       "    </tr>\n",
       "    <tr>\n",
       "      <th>123969</th>\n",
       "      <td>Toyota Vitz 2018</td>\n",
       "      <td>Posted by Sampath Kodithuwakku on 2021-11-04 1...</td>\n",
       "    </tr>\n",
       "    <tr>\n",
       "      <th>123970</th>\n",
       "      <td>Suzuki Alto 2015</td>\n",
       "      <td>Posted by Seller on 2021-11-04 11:37 pm, Kandy</td>\n",
       "    </tr>\n",
       "  </tbody>\n",
       "</table>\n",
       "<p>123971 rows × 2 columns</p>\n",
       "</div>"
      ],
      "text/plain": [
       "                                           Title  \\\n",
       "0              Honda Vezel Limited 2017 for sale   \n",
       "1           Jaguar XF Fully Loaded 2013 for sale   \n",
       "2       Toyota CHR GT New Face 2wd 2020 for sale   \n",
       "3                Toyota CHR Toyato 2017 for sale   \n",
       "4        Toyota Land Cruiser Prado 2015 for sale   \n",
       "...                                          ...   \n",
       "123966                    Honda Insight Ze3 2012   \n",
       "123967                     HINO Dutro 2011 Lorry   \n",
       "123968                       TVS King 2017 Three   \n",
       "123969                          Toyota Vitz 2018   \n",
       "123970                          Suzuki Alto 2015   \n",
       "\n",
       "                                                Sub_title  \n",
       "0       Posted on 01 Sep 2:45 pm, Kurunegala City, Kur...  \n",
       "1       Posted on 28 Sep 10:23 am, Kurunegala City, Ku...  \n",
       "2            Posted on 16 Sep 1:16 pm, Colombo 7, Colombo  \n",
       "3           Posted on 30 Sep 10:12 am, Colombo 7, Colombo  \n",
       "4             Posted on 30 Sep 9:50 pm, Kelaniya, Gampaha  \n",
       "...                                                   ...  \n",
       "123966   Posted by Duminda on 2021-11-04 11:41 pm, Ja-Ela  \n",
       "123967    Posted by Areej on 2021-11-04 11:39 pm, Colombo  \n",
       "123968    Posted by Safan on 2021-11-04 11:38 pm, Colombo  \n",
       "123969  Posted by Sampath Kodithuwakku on 2021-11-04 1...  \n",
       "123970     Posted by Seller on 2021-11-04 11:37 pm, Kandy  \n",
       "\n",
       "[123971 rows x 2 columns]"
      ]
     },
     "execution_count": 11,
     "metadata": {},
     "output_type": "execute_result"
    }
   ],
   "source": [
    "#view content of title and sub title columns\n",
    "vehicle_df[[\"Title\", \"Sub_title\"]]"
   ]
  },
  {
   "cell_type": "markdown",
   "metadata": {},
   "source": [
    "#### Brand"
   ]
  },
  {
   "cell_type": "code",
   "execution_count": 13,
   "metadata": {},
   "outputs": [
    {
     "data": {
      "text/plain": [
       "0          Honda\n",
       "1         Jaguar\n",
       "2         Toyota\n",
       "3         Toyota\n",
       "4         Toyota\n",
       "           ...  \n",
       "123966     Honda\n",
       "123967      HINO\n",
       "123968       TVS\n",
       "123969    Toyota\n",
       "123970    Suzuki\n",
       "Name: Brand, Length: 123971, dtype: object"
      ]
     },
     "execution_count": 13,
     "metadata": {},
     "output_type": "execute_result"
    }
   ],
   "source": [
    "#view brand column\n",
    "vehicle_df.Brand"
   ]
  },
  {
   "cell_type": "code",
   "execution_count": 14,
   "metadata": {},
   "outputs": [
    {
     "data": {
      "text/plain": [
       "array(['Honda', 'Jaguar', 'Toyota', 'Mitsubishi', 'Suzuki', 'MG',\n",
       "       'Peugeot', 'BMW', 'Mercedes Benz', 'Mazda', 'Land Rover',\n",
       "       'Hyundai', 'Micro', 'Audi', 'Daihatsu', 'Nissan', 'Lexus', 'Kia',\n",
       "       'Tata', 'Perodua', 'Ford', 'Chery', 'Renault', 'Aston Martin',\n",
       "       'Chevrolet', 'Other brand', 'Subaru', 'Alfa Romeo', 'Zotye',\n",
       "       'DFSK', 'Mahindra', 'Skoda', 'Volkswagen', 'Maruti Suzuki', 'Jeep',\n",
       "       'Ssang Yong', 'Hummer', 'Datsun', 'Tesla', 'Mini', 'Isuzu', 'Fiat',\n",
       "       'Porsche', 'Morris', 'Austin', 'Opel', 'Daewoo', 'Proton', 'Volvo',\n",
       "       'Rover', 'Chrysler', 'Maruti', 'Geely', 'Citroen', 'Smart',\n",
       "       'Moto Guzzi', 'Vauxhall', 'Pontiac', 'SEAT', 'Changan', 'Buick',\n",
       "       'TVS', 'Hero', 'Mercedes-Benz', 'Bajaj', 'Piaggio', 'Yamaha',\n",
       "       'Other', 'JAC', 'FAW', 'Ashok-Leyland', 'Komatsu', 'Kubota',\n",
       "       'Eicher', 'Massey-Ferguson', 'Ranomoto', 'Force', 'Demak',\n",
       "       'Hero-Honda', 'Sonalika', 'Foton', 'Kinetic', 'Yanmar', 'Kobelco',\n",
       "       'Loncin', 'Singer', 'HINO', 'New-Holland', 'Ceygra', 'Aprilia',\n",
       "       'Land-Rover', 'TAFE', 'Sakai', 'Daido', 'JiaLing', 'Kawasaki',\n",
       "       'Ssangyong', 'John-Deere', 'Hillman', 'Minnelli', 'Yuejin', 'JCB',\n",
       "       'Hitachi', 'KTM', 'CAT', 'JMC', 'Range-Rover', 'Vespa', 'Higer',\n",
       "       'Acura', 'Powertrac', 'Atco', 'Willys', 'Aston', 'Swaraj', 'Cal',\n",
       "       'Zongshen', 'Iveco', 'Alfa-Romeo', 'Triumph', 'KMC', 'Bentley',\n",
       "       'Rolls-Royce'], dtype=object)"
      ]
     },
     "execution_count": 14,
     "metadata": {},
     "output_type": "execute_result"
    }
   ],
   "source": [
    "#view unique brands\n",
    "vehicle_df.Brand.unique()"
   ]
  },
  {
   "cell_type": "code",
   "execution_count": 15,
   "metadata": {},
   "outputs": [
    {
     "name": "stdout",
     "output_type": "stream",
     "text": [
      "There are 123 unique vehicle brands.\n"
     ]
    }
   ],
   "source": [
    "#how many brands are there?\n",
    "print(f\"There are {vehicle_df.Brand.nunique()} unique vehicle brands.\")"
   ]
  },
  {
   "cell_type": "code",
   "execution_count": 16,
   "metadata": {},
   "outputs": [
    {
     "data": {
      "image/png": "[encoded data removed]",
      "text/plain": [
       "<Figure size 640x480 with 1 Axes>"
      ]
     },
     "metadata": {},
     "output_type": "display_data"
    }
   ],
   "source": [
    "#what are the top 3 brands\n",
    "top3_brands = vehicle_df.Brand.value_counts().head(3)\n",
    "\n",
    "#plot top3 brands\n",
    "top3_brands.plot(kind=\"bar\")\n",
    "plt.title(\"Top 3 Vehicle Brand\")\n",
    "plt.xlabel(\"Brand\")\n",
    "plt.ylabel(\"Count\")\n",
    "plt.show()"
   ]
  },
  {
   "cell_type": "markdown",
   "metadata": {},
   "source": [
    "#### Model"
   ]
  },
  {
   "cell_type": "code",
   "execution_count": 27,
   "metadata": {},
   "outputs": [
    {
     "data": {
      "text/plain": [
       "0                      Vezel\n",
       "1                         XF\n",
       "2                        CHR\n",
       "3                        CHR\n",
       "4         Land Cruiser Prado\n",
       "                 ...        \n",
       "123966           Insight Ze3\n",
       "123967                 Dutro\n",
       "123968                  King\n",
       "123969                  Vitz\n",
       "123970                  Alto\n",
       "Name: Model, Length: 123971, dtype: object"
      ]
     },
     "execution_count": 27,
     "metadata": {},
     "output_type": "execute_result"
    }
   ],
   "source": [
    "#view model column\n",
    "vehicle_df.Model"
   ]
  },
  {
   "cell_type": "code",
   "execution_count": null,
   "metadata": {},
   "outputs": [],
   "source": [
    "#how many vehicle models are present in the dataset\n",
    "print(f\"There are {vehicle_df.Model.nunique()} unique vehicle models.\")"
   ]
  },
  {
   "cell_type": "code",
   "execution_count": 29,
   "metadata": {},
   "outputs": [
    {
     "data": {
      "text/plain": [
       "Text(0, 0.5, 'Count')"
      ]
     },
     "execution_count": 29,
     "metadata": {},
     "output_type": "execute_result"
    },
    {
     "data": {
      "image/png": "[encoded data removed]",
      "text/plain": [
       "<Figure size 640x480 with 1 Axes>"
      ]
     },
     "metadata": {},
     "output_type": "display_data"
    }
   ],
   "source": [
    "#what are the top3 models\n",
    "top3_models = vehicle_df.Model.value_counts().head(3)\n",
    "\n",
    "#show top3 models in a plot\n",
    "top3_models.plot(kind=\"bar\", color=\"purple\")\n",
    "plt.title(\"Top 3 Vehicle Model\")\n",
    "plt.xlabel(\"Model\")\n",
    "plt.ylabel(\"Count\")"
   ]
  },
  {
   "cell_type": "code",
   "execution_count": 31,
   "metadata": {},
   "outputs": [
    {
     "data": {
      "image/png": "[encoded data removed]",
      "text/plain": [
       "<Figure size 1000x600 with 1 Axes>"
      ]
     },
     "metadata": {},
     "output_type": "display_data"
    }
   ],
   "source": [
    "#group data by brand and model\n",
    "brand_model = vehicle_df.groupby([\"Brand\", \"Model\"]).size().reset_index(name=\"Count\")\n",
    "\n",
    "#retrieve top 5 brand and model\n",
    "top10_brand_model = brand_model.sort_values(by=\"Count\", ascending=False).head(10)\n",
    "\n",
    "#plot top 5 brand and model\n",
    "plt.figure(figsize=(10, 6))\n",
    "sns.barplot(data=top10_brand_model, x=\"Brand\", y=\"Count\", hue=\"Model\")\n",
    "plt.title(\"Top 10 Vehicle Models via Brand\")\n",
    "plt.xlabel(\"Brand\")\n",
    "plt.ylabel(\"Count\")\n",
    "plt.show()"
   ]
  },
  {
   "cell_type": "markdown",
   "metadata": {},
   "source": [
    "#### Edition"
   ]
  },
  {
   "cell_type": "code",
   "execution_count": 34,
   "metadata": {},
   "outputs": [
    {
     "data": {
      "text/plain": [
       "0                 Limited\n",
       "1            Fully Loaded\n",
       "2         GT New Face 2wd\n",
       "3                  Toyato\n",
       "4                   prado\n",
       "               ...       \n",
       "123966                NaN\n",
       "123967                NaN\n",
       "123968                NaN\n",
       "123969                NaN\n",
       "123970                NaN\n",
       "Name: Edition, Length: 123971, dtype: object"
      ]
     },
     "execution_count": 34,
     "metadata": {},
     "output_type": "execute_result"
    }
   ],
   "source": [
    "#inspect edition column\n",
    "vehicle_df.Edition"
   ]
  },
  {
   "cell_type": "code",
   "execution_count": 36,
   "metadata": {},
   "outputs": [
    {
     "data": {
      "text/plain": [
       "76433"
      ]
     },
     "execution_count": 36,
     "metadata": {},
     "output_type": "execute_result"
    }
   ],
   "source": [
    "#check number of null values in Edition column\n",
    "vehicle_df.Edition.isnull().sum()"
   ]
  },
  {
   "cell_type": "code",
   "execution_count": 38,
   "metadata": {},
   "outputs": [
    {
     "name": "stdout",
     "output_type": "stream",
     "text": [
      "There are 15260 unique editions.\n"
     ]
    }
   ],
   "source": [
    "#how many unique editions\n",
    "print(f\"There are {vehicle_df.Edition.nunique()} unique editions.\")"
   ]
  },
  {
   "cell_type": "code",
   "execution_count": 40,
   "metadata": {},
   "outputs": [
    {
     "data": {
      "text/plain": [
       "Edition\n",
       "Toyota                 780\n",
       "G Grade                629\n",
       "G Superior             608\n",
       "Suzuki                 390\n",
       "-                      346\n",
       "                      ... \n",
       "106 hilux 4wd            1\n",
       "SURF 4WD                 1\n",
       "Extreme Full Option      1\n",
       "GP2 Navy                 1\n",
       "G -TURBO                 1\n",
       "Name: count, Length: 15260, dtype: int64"
      ]
     },
     "execution_count": 40,
     "metadata": {},
     "output_type": "execute_result"
    }
   ],
   "source": [
    "#count unique editions\n",
    "vehicle_df.Edition.value_counts()"
   ]
  },
  {
   "cell_type": "markdown",
   "metadata": {},
   "source": [
    "#### Year"
   ]
  },
  {
   "cell_type": "code",
   "execution_count": 43,
   "metadata": {},
   "outputs": [
    {
     "data": {
      "text/plain": [
       "0    2017\n",
       "1    2013\n",
       "2    2020\n",
       "3    2017\n",
       "4    2015\n",
       "Name: Year, dtype: int64"
      ]
     },
     "execution_count": 43,
     "metadata": {},
     "output_type": "execute_result"
    }
   ],
   "source": [
    "#view first 5 samples of year column\n",
    "vehicle_df.Year.head()"
   ]
  },
  {
   "cell_type": "code",
   "execution_count": 45,
   "metadata": {},
   "outputs": [
    {
     "data": {
      "text/plain": [
       "Year\n",
       "2015    11547\n",
       "2017    11066\n",
       "2018    10228\n",
       "2016     8768\n",
       "2014     7878\n",
       "        ...  \n",
       "1937        1\n",
       "2557        1\n",
       "2561        1\n",
       "2550        1\n",
       "1949        1\n",
       "Name: count, Length: 89, dtype: int64"
      ]
     },
     "execution_count": 45,
     "metadata": {},
     "output_type": "execute_result"
    }
   ],
   "source": [
    "#what year occurs the most\n",
    "vehicle_df.Year.value_counts()"
   ]
  },
  {
   "cell_type": "code",
   "execution_count": 47,
   "metadata": {},
   "outputs": [
    {
     "data": {
      "text/plain": [
       "array([2017, 2013, 2020, 2015, 2007, 2018, 2019, 2016, 2008, 1995, 2012,\n",
       "       2014, 2010, 1985, 2003, 2005, 1999, 2004, 2001, 2011, 1982, 1989,\n",
       "       1980, 2006, 2009, 1993, 2000, 1990, 1988, 1981, 1983, 1979, 2002,\n",
       "       1978, 1991, 1996, 1997, 1984, 2021, 1998, 1987, 1986, 1992, 1994,\n",
       "       1960, 1975, 1958, 1971, 1976, 1956, 1959, 1953, 1967, 1969, 1973,\n",
       "       1972, 1951, 1955, 1946, 1968, 1961, 1970, 1974, 1966, 1977, 1937,\n",
       "       1963, 1947, 1952, 1965, 1950, 1927, 1957, 1964, 1945, 1935, 1936,\n",
       "       1938, 1962, 1922, 2022, 1954,    0, 1948, 1900, 2557, 2561, 2550,\n",
       "       1949], dtype=int64)"
      ]
     },
     "execution_count": 47,
     "metadata": {},
     "output_type": "execute_result"
    }
   ],
   "source": [
    "#unique years represented\n",
    "vehicle_df.Year.unique()"
   ]
  },
  {
   "cell_type": "code",
   "execution_count": 49,
   "metadata": {},
   "outputs": [],
   "source": [
    "#replace invalid years (0, 2557, 2561, 2550) with NaN\n",
    "vehicle_df.Year = vehicle_df.Year.replace([0, 2557, 2561, 2550], np.nan)"
   ]
  },
  {
   "cell_type": "code",
   "execution_count": 51,
   "metadata": {},
   "outputs": [
    {
     "data": {
      "text/plain": [
       "85"
      ]
     },
     "execution_count": 51,
     "metadata": {},
     "output_type": "execute_result"
    }
   ],
   "source": [
    "#how many years are represented?\n",
    "vehicle_df.Year.nunique()"
   ]
  },
  {
   "cell_type": "code",
   "execution_count": 53,
   "metadata": {},
   "outputs": [
    {
     "name": "stdout",
     "output_type": "stream",
     "text": [
      "The years represented range from 1900.0 to 2022.0.\n"
     ]
    }
   ],
   "source": [
    "#range of years represented\n",
    "range = vehicle_df.Year.sort_values().unique()\n",
    "print(f\"The years represented range from {range[0]} to {range[-2]}.\")"
   ]
  },
  {
   "cell_type": "markdown",
   "metadata": {},
   "source": [
    "#### Condition"
   ]
  },
  {
   "cell_type": "code",
   "execution_count": 56,
   "metadata": {},
   "outputs": [
    {
     "data": {
      "text/plain": [
       "array(['Used', 'Reconditioned', 'New', 'e', 'Recondition'], dtype=object)"
      ]
     },
     "execution_count": 56,
     "metadata": {},
     "output_type": "execute_result"
    }
   ],
   "source": [
    "#view unique vehicle condition\n",
    "vehicle_df.Condition.unique()"
   ]
  },
  {
   "cell_type": "code",
   "execution_count": 58,
   "metadata": {},
   "outputs": [
    {
     "data": {
      "text/plain": [
       "Condition\n",
       "Used             120207\n",
       "Reconditioned      1465\n",
       "Recondition        1076\n",
       "e                   617\n",
       "New                 606\n",
       "Name: count, dtype: int64"
      ]
     },
     "execution_count": 58,
     "metadata": {},
     "output_type": "execute_result"
    }
   ],
   "source": [
    "#count values in vehicle condition column\n",
    "vehicle_df.Condition.value_counts()"
   ]
  },
  {
   "cell_type": "code",
   "execution_count": 60,
   "metadata": {},
   "outputs": [],
   "source": [
    "#replace recondition with reconditioned and e with NaN\n",
    "vehicle_df.Condition = vehicle_df.Condition.replace({\"Recondition\": \"Reconditioned\", \"e\": np.nan})"
   ]
  },
  {
   "cell_type": "code",
   "execution_count": 62,
   "metadata": {},
   "outputs": [
    {
     "data": {
      "text/plain": [
       "Condition\n",
       "Used             120207\n",
       "Reconditioned      2541\n",
       "New                 606\n",
       "Name: count, dtype: int64"
      ]
     },
     "execution_count": 62,
     "metadata": {},
     "output_type": "execute_result"
    }
   ],
   "source": [
    "#confirm changes\n",
    "vehicle_df.Condition.value_counts()"
   ]
  },
  {
   "cell_type": "code",
   "execution_count": 64,
   "metadata": {},
   "outputs": [
    {
     "data": {
      "text/plain": [
       "617"
      ]
     },
     "execution_count": 64,
     "metadata": {},
     "output_type": "execute_result"
    }
   ],
   "source": [
    "#check for missing values in condition column\n",
    "vehicle_df.Condition.isna().sum()"
   ]
  },
  {
   "cell_type": "markdown",
   "metadata": {},
   "source": [
    "#### Transmission"
   ]
  },
  {
   "cell_type": "code",
   "execution_count": 67,
   "metadata": {},
   "outputs": [
    {
     "data": {
      "text/plain": [
       "0         Automatic\n",
       "1         Automatic\n",
       "2         Automatic\n",
       "3         Automatic\n",
       "4         Automatic\n",
       "            ...    \n",
       "123966    Automatic\n",
       "123967       Manual\n",
       "123968       Manual\n",
       "123969    Automatic\n",
       "123970       Manual\n",
       "Name: Transmission, Length: 123971, dtype: object"
      ]
     },
     "execution_count": 67,
     "metadata": {},
     "output_type": "execute_result"
    }
   ],
   "source": [
    "#view the transmission column\n",
    "vehicle_df.Transmission"
   ]
  },
  {
   "cell_type": "code",
   "execution_count": 69,
   "metadata": {},
   "outputs": [
    {
     "data": {
      "text/plain": [
       "array(['Automatic', 'Manual', 'Tiptronic', 'Other transmission', '2001',\n",
       "       '11', '150', '2', '0', '1490', '1000', '444444444', '450', nan,\n",
       "       '205', '200', '125', '1200', '50', '175', '1500', '650'],\n",
       "      dtype=object)"
      ]
     },
     "execution_count": 69,
     "metadata": {},
     "output_type": "execute_result"
    }
   ],
   "source": [
    "#what unique types of transmission are there?\n",
    "vehicle_df.Transmission.unique()"
   ]
  },
  {
   "cell_type": "code",
   "execution_count": 71,
   "metadata": {},
   "outputs": [
    {
     "data": {
      "text/plain": [
       "Transmission\n",
       "Automatic             75620\n",
       "Manual                42954\n",
       "Tiptronic              5319\n",
       "Other transmission       45\n",
       "205                       5\n",
       "150                       5\n",
       "175                       4\n",
       "0                         4\n",
       "1500                      2\n",
       "50                        1\n",
       "1200                      1\n",
       "125                       1\n",
       "200                       1\n",
       "1000                      1\n",
       "450                       1\n",
       "444444444                 1\n",
       "1490                      1\n",
       "2                         1\n",
       "11                        1\n",
       "2001                      1\n",
       "650                       1\n",
       "Name: count, dtype: int64"
      ]
     },
     "execution_count": 71,
     "metadata": {},
     "output_type": "execute_result"
    }
   ],
   "source": [
    "#display value counts of unique transmission\n",
    "vehicle_df.Transmission.value_counts()"
   ]
  },
  {
   "cell_type": "code",
   "execution_count": 73,
   "metadata": {},
   "outputs": [],
   "source": [
    "#we see some invalid transmission types in the transmission column\n",
    "#create list of valid transmission types\n",
    "valid_transmissions = [\"Automatic\", \"Manual\", \"Tiptronic\", \"Other transmission\"]\n",
    "\n",
    "#use list to filter out invalid transmission type\n",
    "vehicle_df = vehicle_df[vehicle_df.Transmission.isin(valid_transmissions)]"
   ]
  },
  {
   "cell_type": "code",
   "execution_count": 75,
   "metadata": {},
   "outputs": [
    {
     "data": {
      "text/plain": [
       "Transmission\n",
       "Automatic             75620\n",
       "Manual                42954\n",
       "Tiptronic              5319\n",
       "Other transmission       45\n",
       "Name: count, dtype: int64"
      ]
     },
     "execution_count": 75,
     "metadata": {},
     "output_type": "execute_result"
    }
   ],
   "source": [
    "#confirm changes\n",
    "vehicle_df.Transmission.value_counts()"
   ]
  },
  {
   "cell_type": "markdown",
   "metadata": {},
   "source": [
    "#### Body"
   ]
  },
  {
   "cell_type": "code",
   "execution_count": 78,
   "metadata": {},
   "outputs": [
    {
     "data": {
      "text/plain": [
       "0            SUV / 4x4\n",
       "1               Saloon\n",
       "2            SUV / 4x4\n",
       "3            SUV / 4x4\n",
       "4            SUV / 4x4\n",
       "              ...     \n",
       "123966             Car\n",
       "123967    Unregistered\n",
       "123968     Three Wheel\n",
       "123969             Car\n",
       "123970             Car\n",
       "Name: Body, Length: 123938, dtype: object"
      ]
     },
     "execution_count": 78,
     "metadata": {},
     "output_type": "execute_result"
    }
   ],
   "source": [
    "#inspect body column\n",
    "vehicle_df.Body"
   ]
  },
  {
   "cell_type": "code",
   "execution_count": 80,
   "metadata": {},
   "outputs": [
    {
     "data": {
      "text/plain": [
       "array(['SUV / 4x4', 'Saloon', nan, 'Hatchback', 'MPV', 'Convertible',\n",
       "       'CoupÃ©/Sports', 'Station wagon', 'Lorry', 'Van', 'Motorbike',\n",
       "       'Pickup', 'Car', 'Three Wheel', 'SUV', 'Brand', 'Wagon', 'Other',\n",
       "       'Tractor', 'Unregistered', 'Bus', 'Heavy-Duty', 'Cab'],\n",
       "      dtype=object)"
      ]
     },
     "execution_count": 80,
     "metadata": {},
     "output_type": "execute_result"
    }
   ],
   "source": [
    "#check unique values in body column\n",
    "vehicle_df.Body.unique()"
   ]
  },
  {
   "cell_type": "code",
   "execution_count": 82,
   "metadata": {},
   "outputs": [
    {
     "data": {
      "text/plain": [
       "22"
      ]
     },
     "execution_count": 82,
     "metadata": {},
     "output_type": "execute_result"
    }
   ],
   "source": [
    "#get nnumber of unique values in body column\n",
    "vehicle_df.Body.nunique()"
   ]
  },
  {
   "cell_type": "code",
   "execution_count": 84,
   "metadata": {},
   "outputs": [
    {
     "data": {
      "text/plain": [
       "Body\n",
       "Car              21981\n",
       "Hatchback        21031\n",
       "Saloon           18810\n",
       "Motorbike        15723\n",
       "SUV / 4x4        12641\n",
       "Van               5593\n",
       "Three Wheel       5078\n",
       "Lorry             4245\n",
       "SUV               3582\n",
       "Station wagon     2683\n",
       "Pickup            1492\n",
       "Unregistered      1076\n",
       "Bus               1070\n",
       "Tractor            779\n",
       "MPV                614\n",
       "Brand              614\n",
       "CoupÃ©/Sports      576\n",
       "Wagon              513\n",
       "Heavy-Duty         351\n",
       "Convertible        230\n",
       "Cab                158\n",
       "Other                3\n",
       "Name: count, dtype: int64"
      ]
     },
     "execution_count": 84,
     "metadata": {},
     "output_type": "execute_result"
    }
   ],
   "source": [
    "#count unique values in body column\n",
    "vehicle_df.Body.value_counts()"
   ]
  },
  {
   "cell_type": "code",
   "execution_count": 86,
   "metadata": {},
   "outputs": [],
   "source": [
    "#group or add unregistered to other values in the body column\n",
    "vehicle_df.Body = vehicle_df.Body.replace(\"Unregistered\", \"Other\")"
   ]
  },
  {
   "cell_type": "code",
   "execution_count": 88,
   "metadata": {},
   "outputs": [
    {
     "data": {
      "text/plain": [
       "Body\n",
       "Car              21981\n",
       "Hatchback        21031\n",
       "Saloon           18810\n",
       "Motorbike        15723\n",
       "SUV / 4x4        12641\n",
       "Van               5593\n",
       "Three Wheel       5078\n",
       "Lorry             4245\n",
       "SUV               3582\n",
       "Station wagon     2683\n",
       "Pickup            1492\n",
       "Other             1079\n",
       "Bus               1070\n",
       "Tractor            779\n",
       "MPV                614\n",
       "Brand              614\n",
       "CoupÃ©/Sports      576\n",
       "Wagon              513\n",
       "Heavy-Duty         351\n",
       "Convertible        230\n",
       "Cab                158\n",
       "Name: count, dtype: int64"
      ]
     },
     "execution_count": 88,
     "metadata": {},
     "output_type": "execute_result"
    }
   ],
   "source": [
    "#confirm changes\n",
    "vehicle_df.Body.value_counts()"
   ]
  },
  {
   "cell_type": "code",
   "execution_count": 90,
   "metadata": {},
   "outputs": [
    {
     "data": {
      "image/png": "[encoded data removed]",
      "text/plain": [
       "<Figure size 640x480 with 1 Axes>"
      ]
     },
     "metadata": {},
     "output_type": "display_data"
    }
   ],
   "source": [
    "#top 10 body types\n",
    "top10_body = vehicle_df.Body.value_counts().sort_values(ascending=True).head(10)\n",
    "\n",
    "#plot top 10 body types\n",
    "top10_body.plot(kind=\"barh\", color=\"teal\", alpha=0.7)\n",
    "plt.title(\"Top 10 Body Types\")\n",
    "plt.show()"
   ]
  },
  {
   "cell_type": "code",
   "execution_count": 92,
   "metadata": {},
   "outputs": [
    {
     "data": {
      "text/plain": [
       "5095"
      ]
     },
     "execution_count": 92,
     "metadata": {},
     "output_type": "execute_result"
    }
   ],
   "source": [
    "#check for missing values in Body column\n",
    "vehicle_df.Body.isna().sum()"
   ]
  },
  {
   "cell_type": "markdown",
   "metadata": {},
   "source": [
    "#### Fuel"
   ]
  },
  {
   "cell_type": "code",
   "execution_count": 95,
   "metadata": {},
   "outputs": [
    {
     "data": {
      "text/plain": [
       "array(['Hybrid', 'Diesel', 'Petrol', 'CNG', 'Electric', 'Other fuel type',\n",
       "       'Gas'], dtype=object)"
      ]
     },
     "execution_count": 95,
     "metadata": {},
     "output_type": "execute_result"
    }
   ],
   "source": [
    "#what kind of fuel do the vehicles use?\n",
    "vehicle_df.Fuel.unique()"
   ]
  },
  {
   "cell_type": "code",
   "execution_count": 97,
   "metadata": {},
   "outputs": [
    {
     "data": {
      "text/plain": [
       "Fuel\n",
       "Petrol    86702\n",
       "Diesel    22771\n",
       "Hybrid    13846\n",
       "Name: count, dtype: int64"
      ]
     },
     "execution_count": 97,
     "metadata": {},
     "output_type": "execute_result"
    }
   ],
   "source": [
    "#what are the top 3 fuel models used\n",
    "vehicle_df.Fuel.value_counts()[:3]"
   ]
  },
  {
   "cell_type": "markdown",
   "metadata": {},
   "source": [
    "#### Capacity"
   ]
  },
  {
   "cell_type": "code",
   "execution_count": 100,
   "metadata": {},
   "outputs": [
    {
     "data": {
      "text/plain": [
       "0    1,500 cc\n",
       "1    2,200 cc\n",
       "2    1,200 cc\n",
       "3    1,200 cc\n",
       "4    2,700 cc\n",
       "Name: Capacity, dtype: object"
      ]
     },
     "execution_count": 100,
     "metadata": {},
     "output_type": "execute_result"
    }
   ],
   "source": [
    "#capacity\n",
    "vehicle_df.Capacity.head()"
   ]
  },
  {
   "cell_type": "code",
   "execution_count": 102,
   "metadata": {},
   "outputs": [
    {
     "data": {
      "text/plain": [
       "array(['1,500 cc', '2,200 cc', '1,200 cc', ..., '7300', '66', '5475'],\n",
       "      dtype=object)"
      ]
     },
     "execution_count": 102,
     "metadata": {},
     "output_type": "execute_result"
    }
   ],
   "source": [
    "#what unique capacity types are present?\n",
    "vehicle_df.Capacity.unique()"
   ]
  },
  {
   "cell_type": "code",
   "execution_count": 104,
   "metadata": {},
   "outputs": [
    {
     "data": {
      "text/plain": [
       "1873"
      ]
     },
     "execution_count": 104,
     "metadata": {},
     "output_type": "execute_result"
    }
   ],
   "source": [
    "#how many unique capacity types are present\n",
    "vehicle_df.Capacity.nunique()"
   ]
  },
  {
   "cell_type": "code",
   "execution_count": 106,
   "metadata": {},
   "outputs": [],
   "source": [
    "#convert values in capacity column to int\n",
    "#first, we replace the commas and cc\n",
    "vehicle_df.Capacity = vehicle_df.Capacity.str.replace(\",\", \"\")\n",
    "vehicle_df.Capacity = vehicle_df.Capacity.str.replace(\"cc\", \"\")\n",
    "\n",
    "#next, convert to numeric column\n",
    "vehicle_df.Capacity = pd.to_numeric(vehicle_df.Capacity, errors=\"coerce\")"
   ]
  },
  {
   "cell_type": "code",
   "execution_count": 108,
   "metadata": {},
   "outputs": [
    {
     "data": {
      "text/plain": [
       "0    1500.0\n",
       "1    2200.0\n",
       "2    1200.0\n",
       "3    1200.0\n",
       "4    2700.0\n",
       "Name: Capacity, dtype: float64"
      ]
     },
     "execution_count": 108,
     "metadata": {},
     "output_type": "execute_result"
    }
   ],
   "source": [
    "#view changes in capacity column\n",
    "vehicle_df.Capacity.head()"
   ]
  },
  {
   "cell_type": "code",
   "execution_count": 110,
   "metadata": {},
   "outputs": [
    {
     "data": {
      "text/plain": [
       "Capacity\n",
       "1500.0    20316\n",
       "1000.0    10539\n",
       "650.0      7759\n",
       "Name: count, dtype: int64"
      ]
     },
     "execution_count": 110,
     "metadata": {},
     "output_type": "execute_result"
    }
   ],
   "source": [
    "#frequent 3 capacity range\n",
    "vehicle_df.Capacity.value_counts().head(3)"
   ]
  },
  {
   "cell_type": "markdown",
   "metadata": {},
   "source": [
    "#### Mileage"
   ]
  },
  {
   "cell_type": "code",
   "execution_count": 113,
   "metadata": {},
   "outputs": [
    {
     "data": {
      "text/plain": [
       "0    37,000 km\n",
       "1    42,000 km\n",
       "2    15,000 km\n",
       "3    21,000 km\n",
       "4    57,000 km\n",
       "Name: Mileage, dtype: object"
      ]
     },
     "execution_count": 113,
     "metadata": {},
     "output_type": "execute_result"
    }
   ],
   "source": [
    "#view first 5 rows of mileage column\n",
    "vehicle_df.Mileage.head()"
   ]
  },
  {
   "cell_type": "code",
   "execution_count": 115,
   "metadata": {},
   "outputs": [],
   "source": [
    "#convert values in mileage column to int\n",
    "#first, we replace the commas and km\n",
    "vehicle_df.Mileage = vehicle_df.Mileage.str.replace(\",\", \"\")\n",
    "vehicle_df.Mileage = vehicle_df.Mileage.str.replace(\"km\", \"\")\n",
    "\n",
    "#next, convert to numeric column\n",
    "vehicle_df.Mileage = pd.to_numeric(vehicle_df.Mileage, errors=\"coerce\")"
   ]
  },
  {
   "cell_type": "code",
   "execution_count": 117,
   "metadata": {},
   "outputs": [
    {
     "data": {
      "text/plain": [
       "0    37000.0\n",
       "1    42000.0\n",
       "2    15000.0\n",
       "3    21000.0\n",
       "4    57000.0\n",
       "Name: Mileage, dtype: float64"
      ]
     },
     "execution_count": 117,
     "metadata": {},
     "output_type": "execute_result"
    }
   ],
   "source": [
    "#view changes\n",
    "vehicle_df.Mileage.head()"
   ]
  },
  {
   "cell_type": "markdown",
   "metadata": {},
   "source": [
    "#### Location"
   ]
  },
  {
   "cell_type": "code",
   "execution_count": 120,
   "metadata": {},
   "outputs": [
    {
     "data": {
      "text/plain": [
       "array([' Kurunegala City,  Kurunegala', ' Colombo 7,  Colombo',\n",
       "       ' Kelaniya,  Gampaha', ' Gampaha City,  Gampaha',\n",
       "       ' Maharagama,  Colombo', ' Angoda,  Colombo',\n",
       "       ' Boralesgamuwa,  Colombo', ' Galle City,  Galle',\n",
       "       ' Rambukkana,  Kegalle', ' Ruwanwella,  Kegalle',\n",
       "       ' Negombo,  Gampaha', ' Nugegoda,  Colombo',\n",
       "       ' Anuradhapura City,  Anuradhapura', ' Kohuwala,  Colombo',\n",
       "       ' Ragama,  Gampaha', ' Katugastota,  Kandy',\n",
       "       ' Wennappuwa,  Puttalam', ' Embilipitiya,  Ratnapura',\n",
       "       ' Colombo 2,  Colombo', ' Panadura,  Kalutara',\n",
       "       ' Piliyandala,  Colombo', ' Digana,  Kandy',\n",
       "       ' Tissamaharama,  Hambantota', ' Dehiwala,  Colombo',\n",
       "       ' Godagama,  Colombo', ' Kaduwela,  Colombo', ' Wattala,  Gampaha',\n",
       "       ' Malabe,  Colombo', ' Kottawa,  Colombo', ' Kotte,  Colombo',\n",
       "       ' Colombo 6,  Colombo', ' Battaramulla,  Colombo',\n",
       "       ' Colombo 4,  Colombo', ' Jaffna City,  Jaffna',\n",
       "       ' Ja-Ela,  Gampaha', ' Kandana,  Gampaha', ' Colombo 13,  Colombo',\n",
       "       ' Mawanella,  Kegalle', ' Chilaw,  Puttalam',\n",
       "       ' Homagama,  Colombo', ' Mount Lavinia,  Colombo',\n",
       "       ' Colombo 12,  Colombo', ' Moratuwa,  Colombo',\n",
       "       ' Kalutara City,  Kalutara', ' Kadawatha,  Gampaha',\n",
       "       ' Mirigama,  Gampaha', ' Nittambuwa,  Gampaha',\n",
       "       ' Colombo 10,  Colombo', ' Matara City,  Matara',\n",
       "       ' Pannipitiya,  Colombo', ' Kegalle City,  Kegalle',\n",
       "       ' Nawala,  Colombo', ' Rajagiriya,  Colombo',\n",
       "       ' Badulla City,  Badulla', ' Padukka,  Colombo',\n",
       "       ' Batticaloa City,  Batticaloa', ' Kandy City,  Kandy',\n",
       "       ' Tangalla,  Hambantota', ' Mahiyanganaya,  Badulla',\n",
       "       ' Galenbindunuwewa,  Anuradhapura', ' Weligama,  Matara',\n",
       "       ' Bandarawela,  Badulla', ' Kesbewa,  Colombo',\n",
       "       ' Kinniya,  Trincomalee', ' Colombo 15,  Colombo',\n",
       "       ' Kuliyapitiya,  Kurunegala', ' Chavakachcheri,  Jaffna',\n",
       "       ' Trincomalee City,  Trincomalee', ' Marawila,  Puttalam',\n",
       "       ' Beruwala,  Kalutara', ' Nikaweratiya,  Kurunegala',\n",
       "       ' Elpitiya,  Galle', ' Divulapitiya,  Gampaha', ' Akurana,  Kandy',\n",
       "       ' Polonnaruwa City,  Polonnaruwa', ' Hambantota City,  Hambantota',\n",
       "       ' Ambalangoda,  Galle', ' Wattegama,  Kandy',\n",
       "       ' Matale City,  Matale', ' Gampola,  Kandy',\n",
       "       ' Ratnapura City,  Ratnapura', ' Nuwara Eliya City,  Nuwara Eliya',\n",
       "       ' Athurugiriya,  Colombo', ' Baddegama,  Galle',\n",
       "       ' Tambuttegama,  Anuradhapura', ' Colombo 5,  Colombo',\n",
       "       ' Colombo 8,  Colombo', ' Colombo 3,  Colombo',\n",
       "       ' Akuressa,  Matara', ' Puttalam City,  Puttalam',\n",
       "       ' Kiribathgoda,  Gampaha', ' Ratmalana,  Colombo',\n",
       "       ' Matugama,  Kalutara', ' Talawatugoda,  Colombo',\n",
       "       ' Nallur,  Jaffna', ' Ganemulla,  Gampaha',\n",
       "       ' Minuwangoda,  Gampaha', ' Delgoda,  Gampaha',\n",
       "       ' Dankotuwa,  Puttalam', ' Kekirawa,  Anuradhapura',\n",
       "       ' Wellawaya,  Monaragala', ' Horana,  Kalutara',\n",
       "       ' Peradeniya,  Kandy', ' Pilimatalawa,  Kandy',\n",
       "       ' Bandaragama,  Kalutara', ' Beliatta,  Hambantota',\n",
       "       ' Meegoda,  Colombo', ' Akkarepattu,  Ampara',\n",
       "       ' Ampara City,  Ampara', ' Colombo 1,  Colombo',\n",
       "       ' Gelioya,  Kandy', ' Monaragala City,  Monaragala',\n",
       "       ' Colombo 9,  Colombo', ' Kundasale,  Kandy',\n",
       "       ' Vavuniya City,  Vavuniya', ' Pelmadulla,  Ratnapura',\n",
       "       ' Dambulla,  Matale', ' Wellampitiya,  Colombo',\n",
       "       ' Narammala,  Kurunegala', ' Pannala,  Kurunegala',\n",
       "       ' Alutgama,  Kalutara', ' Ahangama,  Galle', ' Hakmana,  Matara',\n",
       "       ' Seeduwa,  Gampaha', ' Kilinochchi City,  Kilinochchi',\n",
       "       ' Hikkaduwa,  Galle', ' Kolonnawa,  Colombo',\n",
       "       ' Wadduwa,  Kalutara', ' Ibbagamuwa,  Kurunegala',\n",
       "       ' Kamburupitiya,  Matara', ' Galewela,  Matale',\n",
       "       ' Galigamuwa,  Kegalle', ' Katunayake,  Gampaha',\n",
       "       ' Eheliyagoda,  Ratnapura', ' Talawa,  Anuradhapura',\n",
       "       ' Veyangoda,  Gampaha', ' Avissawella,  Colombo',\n",
       "       ' Wariyapola,  Kurunegala', ' Kuruwita,  Ratnapura',\n",
       "       ' Medawachchiya,  Anuradhapura', ' Nochchiyagama,  Anuradhapura',\n",
       "       ' Kaduruwela,  Polonnaruwa', ' Palapathwela,  Matale',\n",
       "       ' Colombo 14,  Colombo', ' Kalmunai,  Ampara',\n",
       "       ' Eppawala,  Anuradhapura', ' Hettipola,  Kurunegala',\n",
       "       ' Bingiriya,  Kurunegala', ' Ingiriya,  Kalutara',\n",
       "       ' Mawathagama,  Kurunegala', ' Ampitiya,  Kandy',\n",
       "       ' Galgamuwa,  Kurunegala', ' Anamaduwa,  Puttalam',\n",
       "       ' Deniyaya,  Matara', ' Mihintale,  Anuradhapura',\n",
       "       ' Ambalantota,  Hambantota', ' Polgahawela,  Kurunegala',\n",
       "       ' Hingurakgoda,  Polonnaruwa', ' Bentota,  Galle',\n",
       "       ' Mannar City,  Mannar', ' Diyatalawa,  Badulla',\n",
       "       ' Colombo 11,  Colombo', ' Karapitiya,  Galle',\n",
       "       ' Warakapola,  Kegalle', ' Balangoda,  Ratnapura',\n",
       "       ' Hanwella,  Colombo', ' Alawwa,  Kurunegala',\n",
       "       ' Nattandiya,  Puttalam', ' Buttala,  Monaragala',\n",
       "       ' Mullativu City,  Mullativu', ' Ella,  Badulla',\n",
       "       ' Bibile,  Monaragala', ' Nawalapitiya,  Kandy',\n",
       "       ' Galnewa,  Anuradhapura', ' Welimada,  Badulla',\n",
       "       ' Giriulla,  Kurunegala', ' Hali Ela,  Badulla',\n",
       "       ' Kekanadurra,  Matara', ' Hatton,  Nuwara Eliya',\n",
       "       ' Menikhinna,  Kandy', ' Dikwella,  Matara',\n",
       "       ' Deraniyagala,  Kegalle', ' Kadugannawa,  Kandy',\n",
       "       ' Batapola,  Galle', ' Kamburugamuwa,  Matara',\n",
       "       ' Medirigiriya,  Polonnaruwa', ' Sainthamaruthu,  Ampara',\n",
       "       ' Ukuwela,  Matale', ' Galagedara,  Kandy',\n",
       "       ' Yatiyantota,  Kegalle', ' Habarana,  Anuradhapura',\n",
       "       ' Kataragama,  Monaragala', ' Galle,  Galle', ' Gampaha,  Gampaha',\n",
       "       ' Kalutara,  Kalutara', ' Puttalam,  Puttalam', ' Kandy,  Kandy',\n",
       "       ' Kegalle,  Kegalle', ' Matara,  Matara', ' Ratnapura,  Ratnapura',\n",
       "       ' Trincomalee,  Trincomalee', ' Mannar,  Mannar',\n",
       "       ' Kurunegala,  Kurunegala', ' Ginigathhena,  Nuwara Eliya',\n",
       "       ' Matale,  Matale', ' Anuradhapura,  Anuradhapura',\n",
       "       ' Batticaloa,  Batticaloa', ' Hambantota,  Hambantota',\n",
       "       ' Ampara,  Ampara', ' Monaragala,  Monaragala',\n",
       "       ' Polonnaruwa,  Polonnaruwa', ' Nuwara Eliya,  Nuwara Eliya',\n",
       "       ' Badulla,  Badulla', ' Vavuniya,  Vavuniya',\n",
       "       ' Mullativu,  Mullativu', ' Dehiowita,  Kegalle',\n",
       "       ' Jaffna,  Jaffna', ' Kilinochchi,  Kilinochchi',\n",
       "       ' Passara,  Badulla', ' Haputale,  Badulla', ' Rattota,  Matale',\n",
       "       ' Pallepola,  Matale', ' Madawala Bazaar,  Kandy',\n",
       "       ' Kitulgala,  Kegalle', ' Gandara,  Matara', ' Sigiriya,  Matale',\n",
       "       ' Madulla,  Nuwara Eliya', ' Colombo', ' Matara', ' Kandy',\n",
       "       ' Horana', ' Ratnapura', ' Ampara', ' Kurunegala', ' Divulapitiya',\n",
       "       ' Wennappuwa', ' Kesbewa', ' Galle', ' Gampaha', ' Malabe',\n",
       "       ' Gampola', ' Negombo', ' Kegalle', ' Tangalle', ' Embilipitiya',\n",
       "       ' Mawanella', ' Padukka', ' Kalutara', ' Kottawa', ' Anuradapura',\n",
       "       ' Puttalam', ' Nugegoda', ' Kandana', ' Pannipitiya',\n",
       "       ' Battaramulla', ' Panadura', ' Boralesgamuwa', ' Nittambuwa',\n",
       "       ' Nawalapitiya', ' Wattala', ' Kuliyapitiya', ' Matale',\n",
       "       ' Mirigama', ' Chilaw', ' Hanwella', ' Piliyandala', ' Badulla',\n",
       "       ' Kaduwela', ' Polgahawela', ' Kiribathgoda', ' Ambalangoda',\n",
       "       ' Warakapola', ' Kadawatha', ' Matugama', ' Homagama',\n",
       "       ' Hambantota', ' Ganemulla', ' Avissawella', ' Minuwangoda',\n",
       "       ' Kotte', ' Dehiwala-Mount-Lavinia', ' Weligama', ' Welimada',\n",
       "       ' Kelaniya', ' Dambulla', ' Ragama', ' Haputale', ' Moneragala',\n",
       "       ' Moratuwa', ' Kalmunai', ' Polonnaruwa', ' Bandaragama',\n",
       "       ' Mulleriyawa', ' Balangoda', ' Ja-Ela', ' Beruwala', ' Jaffna',\n",
       "       ' Maharagama', ' Nuwara-Eliya', ' Kotikawatta', ' Kolonnawa',\n",
       "       ' Eheliyagoda', ' Dompe', ' Mahiyanganaya', ' Bandarawela',\n",
       "       ' Hatton', ' Wattegama', ' Kadugannawa', ' Marawila',\n",
       "       ' Katunayake', ' Trincomalee', ' Peliyagoda', ' Vavuniya',\n",
       "       ' Welisara', ' Kalawana', ' Talawakele', ' Mannar', ' Mullaitivu',\n",
       "       ' Kilinochchi', ' Batticaloa', ' Chavakacheri', ' Nawala',\n",
       "       ' Kattankudy', ' Hendala', ' Keselwatta', ' Daluguma', ' Sigiriya',\n",
       "       ' Eravur'], dtype=object)"
      ]
     },
     "execution_count": 120,
     "metadata": {},
     "output_type": "execute_result"
    }
   ],
   "source": [
    "#view unique values in location column\n",
    "vehicle_df.Location.unique()"
   ]
  },
  {
   "cell_type": "code",
   "execution_count": 122,
   "metadata": {},
   "outputs": [
    {
     "data": {
      "text/plain": [
       "328"
      ]
     },
     "execution_count": 122,
     "metadata": {},
     "output_type": "execute_result"
    }
   ],
   "source": [
    "#get number of unique locations present\n",
    "vehicle_df.Location.nunique()"
   ]
  },
  {
   "cell_type": "markdown",
   "metadata": {},
   "source": [
    "#### Description & Post Url"
   ]
  },
  {
   "cell_type": "code",
   "execution_count": 125,
   "metadata": {},
   "outputs": [
    {
     "data": {
      "text/html": [
       "<div>\n",
       "<style scoped>\n",
       "    .dataframe tbody tr th:only-of-type {\n",
       "        vertical-align: middle;\n",
       "    }\n",
       "\n",
       "    .dataframe tbody tr th {\n",
       "        vertical-align: top;\n",
       "    }\n",
       "\n",
       "    .dataframe thead th {\n",
       "        text-align: right;\n",
       "    }\n",
       "</style>\n",
       "<table border=\"1\" class=\"dataframe\">\n",
       "  <thead>\n",
       "    <tr style=\"text-align: right;\">\n",
       "      <th></th>\n",
       "      <th>Description</th>\n",
       "      <th>Post_URL</th>\n",
       "    </tr>\n",
       "  </thead>\n",
       "  <tbody>\n",
       "    <tr>\n",
       "      <th>0</th>\n",
       "      <td>HONDA VEZEL LIMITEDCBE-XXXXMANU YEAR : 2017LIM...</td>\n",
       "      <td>https://ikman.lk/en/ad/honda-vezel-limited-201...</td>\n",
       "    </tr>\n",
       "    <tr>\n",
       "      <th>1</th>\n",
       "      <td>1st owner(registered owner)Diesel(13-14km per ...</td>\n",
       "      <td>https://ikman.lk/en/ad/jaguar-xf-fully-loaded-...</td>\n",
       "    </tr>\n",
       "    <tr>\n",
       "      <th>2</th>\n",
       "      <td>2020 Facelift modelFirst owner (No previous ow...</td>\n",
       "      <td>https://ikman.lk/en/ad/toyota-chr-gt-new-face-...</td>\n",
       "    </tr>\n",
       "    <tr>\n",
       "      <th>3</th>\n",
       "      <td>Toyota CHR GT Turbo1st owner Imported as a bra...</td>\n",
       "      <td>https://ikman.lk/en/ad/toyota-chr-toyato-2017-...</td>\n",
       "    </tr>\n",
       "    <tr>\n",
       "      <th>4</th>\n",
       "      <td>Toyota Land Cruiser Prado 20152 nd Owner for 5...</td>\n",
       "      <td>https://ikman.lk/en/ad/toyota-land-cruiser-pra...</td>\n",
       "    </tr>\n",
       "    <tr>\n",
       "      <th>...</th>\n",
       "      <td>...</td>\n",
       "      <td>...</td>\n",
       "    </tr>\n",
       "    <tr>\n",
       "      <th>123966</th>\n",
       "      <td>AIR CONDITION, POWER STEERING, POWER MIRROR, P...</td>\n",
       "      <td>https://riyasewana.com/buy/honda-insight-ze3-s...</td>\n",
       "    </tr>\n",
       "    <tr>\n",
       "      <th>123967</th>\n",
       "      <td>AIR CONDITION, POWER STEERING, POWER MIRROR, P...</td>\n",
       "      <td>https://riyasewana.com/buy/hino-dutro-sale-col...</td>\n",
       "    </tr>\n",
       "    <tr>\n",
       "      <th>123968</th>\n",
       "      <td>-</td>\n",
       "      <td>https://riyasewana.com/buy/tvs-king-sale-colom...</td>\n",
       "    </tr>\n",
       "    <tr>\n",
       "      <th>123969</th>\n",
       "      <td>AIR CONDITION, POWER STEERING, POWER MIRROR, P...</td>\n",
       "      <td>https://riyasewana.com/buy/toyota-vitz-sale-ta...</td>\n",
       "    </tr>\n",
       "    <tr>\n",
       "      <th>123970</th>\n",
       "      <td>POWER STEERING,POWER MIRROR,POWER WINDOW</td>\n",
       "      <td>https://riyasewana.com/buy/suzuki-alto-sale-ka...</td>\n",
       "    </tr>\n",
       "  </tbody>\n",
       "</table>\n",
       "<p>123938 rows × 2 columns</p>\n",
       "</div>"
      ],
      "text/plain": [
       "                                              Description  \\\n",
       "0       HONDA VEZEL LIMITEDCBE-XXXXMANU YEAR : 2017LIM...   \n",
       "1       1st owner(registered owner)Diesel(13-14km per ...   \n",
       "2       2020 Facelift modelFirst owner (No previous ow...   \n",
       "3       Toyota CHR GT Turbo1st owner Imported as a bra...   \n",
       "4       Toyota Land Cruiser Prado 20152 nd Owner for 5...   \n",
       "...                                                   ...   \n",
       "123966  AIR CONDITION, POWER STEERING, POWER MIRROR, P...   \n",
       "123967  AIR CONDITION, POWER STEERING, POWER MIRROR, P...   \n",
       "123968                                                  -   \n",
       "123969  AIR CONDITION, POWER STEERING, POWER MIRROR, P...   \n",
       "123970           POWER STEERING,POWER MIRROR,POWER WINDOW   \n",
       "\n",
       "                                                 Post_URL  \n",
       "0       https://ikman.lk/en/ad/honda-vezel-limited-201...  \n",
       "1       https://ikman.lk/en/ad/jaguar-xf-fully-loaded-...  \n",
       "2       https://ikman.lk/en/ad/toyota-chr-gt-new-face-...  \n",
       "3       https://ikman.lk/en/ad/toyota-chr-toyato-2017-...  \n",
       "4       https://ikman.lk/en/ad/toyota-land-cruiser-pra...  \n",
       "...                                                   ...  \n",
       "123966  https://riyasewana.com/buy/honda-insight-ze3-s...  \n",
       "123967  https://riyasewana.com/buy/hino-dutro-sale-col...  \n",
       "123968  https://riyasewana.com/buy/tvs-king-sale-colom...  \n",
       "123969  https://riyasewana.com/buy/toyota-vitz-sale-ta...  \n",
       "123970  https://riyasewana.com/buy/suzuki-alto-sale-ka...  \n",
       "\n",
       "[123938 rows x 2 columns]"
      ]
     },
     "execution_count": 125,
     "metadata": {},
     "output_type": "execute_result"
    }
   ],
   "source": [
    "#view contents of description and post url columns\n",
    "vehicle_df[[\"Description\", \"Post_URL\"]]"
   ]
  },
  {
   "cell_type": "markdown",
   "metadata": {},
   "source": [
    "#### Seller Name & Type"
   ]
  },
  {
   "cell_type": "code",
   "execution_count": 128,
   "metadata": {},
   "outputs": [
    {
     "data": {
      "text/html": [
       "<div>\n",
       "<style scoped>\n",
       "    .dataframe tbody tr th:only-of-type {\n",
       "        vertical-align: middle;\n",
       "    }\n",
       "\n",
       "    .dataframe tbody tr th {\n",
       "        vertical-align: top;\n",
       "    }\n",
       "\n",
       "    .dataframe thead th {\n",
       "        text-align: right;\n",
       "    }\n",
       "</style>\n",
       "<table border=\"1\" class=\"dataframe\">\n",
       "  <thead>\n",
       "    <tr style=\"text-align: right;\">\n",
       "      <th></th>\n",
       "      <th>Seller_name</th>\n",
       "      <th>Seller_type</th>\n",
       "    </tr>\n",
       "  </thead>\n",
       "  <tbody>\n",
       "    <tr>\n",
       "      <th>0</th>\n",
       "      <td>Prasad Enterprises</td>\n",
       "      <td>Premium-Member</td>\n",
       "    </tr>\n",
       "    <tr>\n",
       "      <th>1</th>\n",
       "      <td>Dhanushka Dharmasri</td>\n",
       "      <td>Member</td>\n",
       "    </tr>\n",
       "    <tr>\n",
       "      <th>2</th>\n",
       "      <td>Carzone Lanka</td>\n",
       "      <td>Member</td>\n",
       "    </tr>\n",
       "    <tr>\n",
       "      <th>3</th>\n",
       "      <td>Carzone Lanka</td>\n",
       "      <td>Member</td>\n",
       "    </tr>\n",
       "    <tr>\n",
       "      <th>4</th>\n",
       "      <td>Shine Music Center</td>\n",
       "      <td>Member</td>\n",
       "    </tr>\n",
       "    <tr>\n",
       "      <th>...</th>\n",
       "      <td>...</td>\n",
       "      <td>...</td>\n",
       "    </tr>\n",
       "    <tr>\n",
       "      <th>123966</th>\n",
       "      <td>Duminda</td>\n",
       "      <td>Member</td>\n",
       "    </tr>\n",
       "    <tr>\n",
       "      <th>123967</th>\n",
       "      <td>Areej</td>\n",
       "      <td>Member</td>\n",
       "    </tr>\n",
       "    <tr>\n",
       "      <th>123968</th>\n",
       "      <td>Safan</td>\n",
       "      <td>Member</td>\n",
       "    </tr>\n",
       "    <tr>\n",
       "      <th>123969</th>\n",
       "      <td>Sampath Kodithuwakku</td>\n",
       "      <td>Member</td>\n",
       "    </tr>\n",
       "    <tr>\n",
       "      <th>123970</th>\n",
       "      <td>Seller</td>\n",
       "      <td>Member</td>\n",
       "    </tr>\n",
       "  </tbody>\n",
       "</table>\n",
       "<p>123938 rows × 2 columns</p>\n",
       "</div>"
      ],
      "text/plain": [
       "                 Seller_name     Seller_type\n",
       "0         Prasad Enterprises  Premium-Member\n",
       "1        Dhanushka Dharmasri          Member\n",
       "2              Carzone Lanka          Member\n",
       "3              Carzone Lanka          Member\n",
       "4         Shine Music Center          Member\n",
       "...                      ...             ...\n",
       "123966               Duminda          Member\n",
       "123967                 Areej          Member\n",
       "123968                 Safan          Member\n",
       "123969  Sampath Kodithuwakku          Member\n",
       "123970                Seller          Member\n",
       "\n",
       "[123938 rows x 2 columns]"
      ]
     },
     "execution_count": 128,
     "metadata": {},
     "output_type": "execute_result"
    }
   ],
   "source": [
    "#view content of seller name and seller type columns\n",
    "vehicle_df[[\"Seller_name\", \"Seller_type\"]]"
   ]
  },
  {
   "cell_type": "code",
   "execution_count": 130,
   "metadata": {},
   "outputs": [
    {
     "data": {
      "text/plain": [
       "array(['Premium-Member', 'Member'], dtype=object)"
      ]
     },
     "execution_count": 130,
     "metadata": {},
     "output_type": "execute_result"
    }
   ],
   "source": [
    "#inspect uniqueness of seller type column\n",
    "vehicle_df[\"Seller_type\"].unique()"
   ]
  },
  {
   "cell_type": "code",
   "execution_count": 132,
   "metadata": {},
   "outputs": [
    {
     "data": {
      "image/png": "[encoded data removed]",
      "text/plain": [
       "<Figure size 640x480 with 1 Axes>"
      ]
     },
     "metadata": {},
     "output_type": "display_data"
    }
   ],
   "source": [
    "#view distribution of seller type\n",
    "vehicle_df[\"Seller_type\"].value_counts()\n",
    "\n",
    "#plot distribution\n",
    "vehicle_df[\"Seller_type\"].value_counts().plot(kind=\"bar\", color=\"green\")\n",
    "plt.title(\"Distribution of Seller Type\")\n",
    "plt.xlabel(\"Seller Type\")\n",
    "plt.ylabel(\"Count\")\n",
    "plt.show()"
   ]
  },
  {
   "cell_type": "markdown",
   "metadata": {},
   "source": [
    "#### Published Date"
   ]
  },
  {
   "cell_type": "code",
   "execution_count": 135,
   "metadata": {},
   "outputs": [
    {
     "data": {
      "text/plain": [
       "0         2022-09-01 14:45:00\n",
       "1         2022-09-28 10:23:00\n",
       "2         2022-09-16 13:16:00\n",
       "3         2022-09-30 10:12:00\n",
       "4         2022-09-30 21:50:00\n",
       "                 ...         \n",
       "123966    2021-11-04 23:41:00\n",
       "123967    2021-11-04 23:39:00\n",
       "123968    2021-11-04 23:38:00\n",
       "123969    2021-11-04 23:38:00\n",
       "123970    2021-11-04 23:37:00\n",
       "Name: published_date, Length: 123938, dtype: object"
      ]
     },
     "execution_count": 135,
     "metadata": {},
     "output_type": "execute_result"
    }
   ],
   "source": [
    "#view published date column\n",
    "vehicle_df[\"published_date\"]"
   ]
  },
  {
   "cell_type": "code",
   "execution_count": null,
   "metadata": {},
   "outputs": [],
   "source": []
  },
  {
   "cell_type": "code",
   "execution_count": null,
   "metadata": {},
   "outputs": [],
   "source": []
  },
  {
   "cell_type": "code",
   "execution_count": null,
   "metadata": {},
   "outputs": [],
   "source": []
  }
 ],
 "metadata": {
  "colab": {
   "include_colab_link": true,
   "provenance": []
  },
  "kernelspec": {
   "display_name": "Python 3 (ipykernel)",
   "language": "python",
   "name": "python3"
  },
  "language_info": {
   "codemirror_mode": {
    "name": "ipython",
    "version": 3
   },
   "file_extension": ".py",
   "mimetype": "text/x-python",
   "name": "python",
   "nbconvert_exporter": "python",
   "pygments_lexer": "ipython3",
   "version": "3.12.4"
  }
 },
 "nbformat": 4,
 "nbformat_minor": 4
}
