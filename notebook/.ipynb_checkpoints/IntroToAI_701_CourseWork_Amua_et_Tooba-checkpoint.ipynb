{
 "cells": [
  {
   "cell_type": "markdown",
   "metadata": {
    "colab_type": "text",
    "id": "view-in-github"
   },
   "source": [
    "<a href=\"https://colab.research.google.com/github/toobask/introtoAI1/blob/main/IntroToAI_701_CourseWork_Amua_et_Tooba.ipynb\" target=\"_parent\"><img src=\"https://colab.research.google.com/assets/colab-badge.svg\" alt=\"Open In Colab\"/></a>"
   ]
  },
  {
   "cell_type": "markdown",
   "metadata": {
    "id": "QqDA16-2el3z"
   },
   "source": [
    "## Import Necessary Libraries & Dependencies"
   ]
  },
  {
   "cell_type": "code",
   "execution_count": 8,
   "metadata": {
    "id": "FimrlMshd6zT"
   },
   "outputs": [],
   "source": [
    "import pandas as pd\n",
    "import numpy as np\n",
    "\n",
    "from sklearn.preprocessing  import StandardScaler\n",
    "from sklearn.model_selection import train_test_split, KFold, GridSearchCV\n",
    "\n",
    "from sklearn.linear_model import LinearRegression\n",
    "from sklearn.tree import DecisionTreeRegressor\n",
    "from sklearn.ensemble import RandomForestRegressor\n",
    "from sklearn.neighbors import KNeighborsRegressor\n",
    "from sklearn.metrics import mean_squared_error, r2_score\n",
    "\n",
    "import matplotlib.pyplot as plt\n",
    "import seaborn as sns; sns.set()\n",
    "\n",
    "import warnings\n",
    "warnings.filterwarnings('ignore')"
   ]
  },
  {
   "cell_type": "markdown",
   "metadata": {
    "id": "rdtcy2ayel30"
   },
   "source": [
    "## Data Loading, Exploration, & Preprocessing"
   ]
  },
  {
   "cell_type": "markdown",
   "metadata": {},
   "source": [
    "### Load Data"
   ]
  },
  {
   "cell_type": "code",
   "execution_count": 10,
   "metadata": {
    "id": "FmIcVd3KeKJE"
   },
   "outputs": [],
   "source": [
    "#load vehicle dataset\n",
    "#vehicle_df = pd.read_csv(\"../dataset/vehicle_data.csv\")\n",
    "vehicle_df = pd.read_csv(\"https://raw.githubusercontent.com/toobask/introtoAI1/main/dataset/vehicle_data.csv\")"
   ]
  },
  {
   "cell_type": "code",
   "execution_count": 12,
   "metadata": {
    "colab": {
     "base_uri": "https://localhost:8080/",
     "height": 256
    },
    "id": "AvLyNm9CerwX",
    "outputId": "cf5bbe6c-dd91-4b5b-b497-79ae84191bc1"
   },
   "outputs": [
    {
     "name": "stdout",
     "output_type": "stream",
     "text": [
      "This dataframe contains 123971 rows and 19 columns.\n"
     ]
    }
   ],
   "source": [
    "#check shape of df\n",
    "vehicle_df.shape\n",
    "print(f\"This dataframe contains {vehicle_df.shape[0]} rows and {vehicle_df.shape[1]} columns.\")"
   ]
  },
  {
   "cell_type": "code",
   "execution_count": 14,
   "metadata": {
    "colab": {
     "base_uri": "https://localhost:8080/"
    },
    "id": "OxIg8LvWiubo",
    "outputId": "b1f66e82-d485-4f6f-c76e-8d3475a91866"
   },
   "outputs": [
    {
     "data": {
      "text/html": [
       "<div>\n",
       "<style scoped>\n",
       "    .dataframe tbody tr th:only-of-type {\n",
       "        vertical-align: middle;\n",
       "    }\n",
       "\n",
       "    .dataframe tbody tr th {\n",
       "        vertical-align: top;\n",
       "    }\n",
       "\n",
       "    .dataframe thead th {\n",
       "        text-align: right;\n",
       "    }\n",
       "</style>\n",
       "<table border=\"1\" class=\"dataframe\">\n",
       "  <thead>\n",
       "    <tr style=\"text-align: right;\">\n",
       "      <th></th>\n",
       "      <th>Title</th>\n",
       "      <th>Sub_title</th>\n",
       "      <th>Price</th>\n",
       "      <th>Brand</th>\n",
       "      <th>Model</th>\n",
       "      <th>Edition</th>\n",
       "      <th>Year</th>\n",
       "      <th>Condition</th>\n",
       "      <th>Transmission</th>\n",
       "      <th>Body</th>\n",
       "      <th>Fuel</th>\n",
       "      <th>Capacity</th>\n",
       "      <th>Mileage</th>\n",
       "      <th>Location</th>\n",
       "      <th>Description</th>\n",
       "      <th>Post_URL</th>\n",
       "      <th>Seller_name</th>\n",
       "      <th>Seller_type</th>\n",
       "      <th>published_date</th>\n",
       "    </tr>\n",
       "  </thead>\n",
       "  <tbody>\n",
       "    <tr>\n",
       "      <th>0</th>\n",
       "      <td>Honda Vezel Limited 2017 for sale</td>\n",
       "      <td>Posted on 01 Sep 2:45 pm, Kurunegala City, Kur...</td>\n",
       "      <td>Rs 12,900,000</td>\n",
       "      <td>Honda</td>\n",
       "      <td>Vezel</td>\n",
       "      <td>Limited</td>\n",
       "      <td>2017</td>\n",
       "      <td>Used</td>\n",
       "      <td>Automatic</td>\n",
       "      <td>SUV / 4x4</td>\n",
       "      <td>Hybrid</td>\n",
       "      <td>1,500 cc</td>\n",
       "      <td>37,000 km</td>\n",
       "      <td>Kurunegala City,  Kurunegala</td>\n",
       "      <td>HONDA VEZEL LIMITEDCBE-XXXXMANU YEAR : 2017LIM...</td>\n",
       "      <td>https://ikman.lk/en/ad/honda-vezel-limited-201...</td>\n",
       "      <td>Prasad Enterprises</td>\n",
       "      <td>Premium-Member</td>\n",
       "      <td>2022-09-01 14:45:00</td>\n",
       "    </tr>\n",
       "    <tr>\n",
       "      <th>1</th>\n",
       "      <td>Jaguar XF Fully Loaded 2013 for sale</td>\n",
       "      <td>Posted on 28 Sep 10:23 am, Kurunegala City, Ku...</td>\n",
       "      <td>Rs 16,250,000</td>\n",
       "      <td>Jaguar</td>\n",
       "      <td>XF</td>\n",
       "      <td>Fully Loaded</td>\n",
       "      <td>2013</td>\n",
       "      <td>Used</td>\n",
       "      <td>Automatic</td>\n",
       "      <td>Saloon</td>\n",
       "      <td>Diesel</td>\n",
       "      <td>2,200 cc</td>\n",
       "      <td>42,000 km</td>\n",
       "      <td>Kurunegala City,  Kurunegala</td>\n",
       "      <td>1st owner(registered owner)Diesel(13-14km per ...</td>\n",
       "      <td>https://ikman.lk/en/ad/jaguar-xf-fully-loaded-...</td>\n",
       "      <td>Dhanushka Dharmasri</td>\n",
       "      <td>Member</td>\n",
       "      <td>2022-09-28 10:23:00</td>\n",
       "    </tr>\n",
       "    <tr>\n",
       "      <th>2</th>\n",
       "      <td>Toyota CHR GT New Face 2wd 2020 for sale</td>\n",
       "      <td>Posted on 16 Sep 1:16 pm, Colombo 7, Colombo</td>\n",
       "      <td>Rs 17,000,000</td>\n",
       "      <td>Toyota</td>\n",
       "      <td>CHR</td>\n",
       "      <td>GT New Face 2wd</td>\n",
       "      <td>2020</td>\n",
       "      <td>Used</td>\n",
       "      <td>Automatic</td>\n",
       "      <td>SUV / 4x4</td>\n",
       "      <td>Petrol</td>\n",
       "      <td>1,200 cc</td>\n",
       "      <td>15,000 km</td>\n",
       "      <td>Colombo 7,  Colombo</td>\n",
       "      <td>2020 Facelift modelFirst owner (No previous ow...</td>\n",
       "      <td>https://ikman.lk/en/ad/toyota-chr-gt-new-face-...</td>\n",
       "      <td>Carzone Lanka</td>\n",
       "      <td>Member</td>\n",
       "      <td>2022-09-16 13:16:00</td>\n",
       "    </tr>\n",
       "    <tr>\n",
       "      <th>3</th>\n",
       "      <td>Toyota CHR Toyato 2017 for sale</td>\n",
       "      <td>Posted on 30 Sep 10:12 am, Colombo 7, Colombo</td>\n",
       "      <td>Rs 13,000,000</td>\n",
       "      <td>Toyota</td>\n",
       "      <td>CHR</td>\n",
       "      <td>Toyato</td>\n",
       "      <td>2017</td>\n",
       "      <td>Used</td>\n",
       "      <td>Automatic</td>\n",
       "      <td>SUV / 4x4</td>\n",
       "      <td>Petrol</td>\n",
       "      <td>1,200 cc</td>\n",
       "      <td>21,000 km</td>\n",
       "      <td>Colombo 7,  Colombo</td>\n",
       "      <td>Toyota CHR GT Turbo1st owner Imported as a bra...</td>\n",
       "      <td>https://ikman.lk/en/ad/toyota-chr-toyato-2017-...</td>\n",
       "      <td>Carzone Lanka</td>\n",
       "      <td>Member</td>\n",
       "      <td>2022-09-30 10:12:00</td>\n",
       "    </tr>\n",
       "    <tr>\n",
       "      <th>4</th>\n",
       "      <td>Toyota Land Cruiser Prado 2015 for sale</td>\n",
       "      <td>Posted on 30 Sep 9:50 pm, Kelaniya, Gampaha</td>\n",
       "      <td>Rs 33,500,000</td>\n",
       "      <td>Toyota</td>\n",
       "      <td>Land Cruiser Prado</td>\n",
       "      <td>prado</td>\n",
       "      <td>2015</td>\n",
       "      <td>Used</td>\n",
       "      <td>Automatic</td>\n",
       "      <td>SUV / 4x4</td>\n",
       "      <td>Petrol</td>\n",
       "      <td>2,700 cc</td>\n",
       "      <td>57,000 km</td>\n",
       "      <td>Kelaniya,  Gampaha</td>\n",
       "      <td>Toyota Land Cruiser Prado 20152 nd Owner for 5...</td>\n",
       "      <td>https://ikman.lk/en/ad/toyota-land-cruiser-pra...</td>\n",
       "      <td>Shine Music Center</td>\n",
       "      <td>Member</td>\n",
       "      <td>2022-09-30 21:50:00</td>\n",
       "    </tr>\n",
       "  </tbody>\n",
       "</table>\n",
       "</div>"
      ],
      "text/plain": [
       "                                      Title  \\\n",
       "0         Honda Vezel Limited 2017 for sale   \n",
       "1      Jaguar XF Fully Loaded 2013 for sale   \n",
       "2  Toyota CHR GT New Face 2wd 2020 for sale   \n",
       "3           Toyota CHR Toyato 2017 for sale   \n",
       "4   Toyota Land Cruiser Prado 2015 for sale   \n",
       "\n",
       "                                           Sub_title          Price   Brand  \\\n",
       "0  Posted on 01 Sep 2:45 pm, Kurunegala City, Kur...  Rs 12,900,000   Honda   \n",
       "1  Posted on 28 Sep 10:23 am, Kurunegala City, Ku...  Rs 16,250,000  Jaguar   \n",
       "2       Posted on 16 Sep 1:16 pm, Colombo 7, Colombo  Rs 17,000,000  Toyota   \n",
       "3      Posted on 30 Sep 10:12 am, Colombo 7, Colombo  Rs 13,000,000  Toyota   \n",
       "4        Posted on 30 Sep 9:50 pm, Kelaniya, Gampaha  Rs 33,500,000  Toyota   \n",
       "\n",
       "                Model          Edition  Year Condition Transmission  \\\n",
       "0               Vezel          Limited  2017      Used    Automatic   \n",
       "1                  XF     Fully Loaded  2013      Used    Automatic   \n",
       "2                 CHR  GT New Face 2wd  2020      Used    Automatic   \n",
       "3                 CHR           Toyato  2017      Used    Automatic   \n",
       "4  Land Cruiser Prado            prado  2015      Used    Automatic   \n",
       "\n",
       "        Body    Fuel  Capacity    Mileage                       Location  \\\n",
       "0  SUV / 4x4  Hybrid  1,500 cc  37,000 km   Kurunegala City,  Kurunegala   \n",
       "1     Saloon  Diesel  2,200 cc  42,000 km   Kurunegala City,  Kurunegala   \n",
       "2  SUV / 4x4  Petrol  1,200 cc  15,000 km            Colombo 7,  Colombo   \n",
       "3  SUV / 4x4  Petrol  1,200 cc  21,000 km            Colombo 7,  Colombo   \n",
       "4  SUV / 4x4  Petrol  2,700 cc  57,000 km             Kelaniya,  Gampaha   \n",
       "\n",
       "                                         Description  \\\n",
       "0  HONDA VEZEL LIMITEDCBE-XXXXMANU YEAR : 2017LIM...   \n",
       "1  1st owner(registered owner)Diesel(13-14km per ...   \n",
       "2  2020 Facelift modelFirst owner (No previous ow...   \n",
       "3  Toyota CHR GT Turbo1st owner Imported as a bra...   \n",
       "4  Toyota Land Cruiser Prado 20152 nd Owner for 5...   \n",
       "\n",
       "                                            Post_URL          Seller_name  \\\n",
       "0  https://ikman.lk/en/ad/honda-vezel-limited-201...   Prasad Enterprises   \n",
       "1  https://ikman.lk/en/ad/jaguar-xf-fully-loaded-...  Dhanushka Dharmasri   \n",
       "2  https://ikman.lk/en/ad/toyota-chr-gt-new-face-...        Carzone Lanka   \n",
       "3  https://ikman.lk/en/ad/toyota-chr-toyato-2017-...        Carzone Lanka   \n",
       "4  https://ikman.lk/en/ad/toyota-land-cruiser-pra...   Shine Music Center   \n",
       "\n",
       "      Seller_type       published_date  \n",
       "0  Premium-Member  2022-09-01 14:45:00  \n",
       "1          Member  2022-09-28 10:23:00  \n",
       "2          Member  2022-09-16 13:16:00  \n",
       "3          Member  2022-09-30 10:12:00  \n",
       "4          Member  2022-09-30 21:50:00  "
      ]
     },
     "execution_count": 14,
     "metadata": {},
     "output_type": "execute_result"
    }
   ],
   "source": [
    "#view first 5 rows\n",
    "vehicle_df[:5]"
   ]
  },
  {
   "cell_type": "code",
   "execution_count": 16,
   "metadata": {
    "colab": {
     "base_uri": "https://localhost:8080/"
    },
    "id": "MHqoIX4pky58",
    "outputId": "ddd37856-0d3c-4fde-c094-00149c5bd7f9"
   },
   "outputs": [
    {
     "data": {
      "text/plain": [
       "Index(['Title', 'Sub_title', 'Price', 'Brand', 'Model', 'Edition', 'Year',\n",
       "       'Condition', 'Transmission', 'Body', 'Fuel', 'Capacity', 'Mileage',\n",
       "       'Location', 'Description', 'Post_URL', 'Seller_name', 'Seller_type',\n",
       "       'published_date'],\n",
       "      dtype='object')"
      ]
     },
     "execution_count": 16,
     "metadata": {},
     "output_type": "execute_result"
    }
   ],
   "source": [
    "#display column names\n",
    "vehicle_df.columns"
   ]
  },
  {
   "cell_type": "markdown",
   "metadata": {},
   "source": [
    "### EDA\n",
    "\n",
    "Here, we explore individual features."
   ]
  },
  {
   "cell_type": "markdown",
   "metadata": {},
   "source": [
    "#### Title & Sub-title"
   ]
  },
  {
   "cell_type": "code",
   "execution_count": 20,
   "metadata": {},
   "outputs": [
    {
     "data": {
      "text/html": [
       "<div>\n",
       "<style scoped>\n",
       "    .dataframe tbody tr th:only-of-type {\n",
       "        vertical-align: middle;\n",
       "    }\n",
       "\n",
       "    .dataframe tbody tr th {\n",
       "        vertical-align: top;\n",
       "    }\n",
       "\n",
       "    .dataframe thead th {\n",
       "        text-align: right;\n",
       "    }\n",
       "</style>\n",
       "<table border=\"1\" class=\"dataframe\">\n",
       "  <thead>\n",
       "    <tr style=\"text-align: right;\">\n",
       "      <th></th>\n",
       "      <th>Title</th>\n",
       "      <th>Sub_title</th>\n",
       "    </tr>\n",
       "  </thead>\n",
       "  <tbody>\n",
       "    <tr>\n",
       "      <th>0</th>\n",
       "      <td>Honda Vezel Limited 2017 for sale</td>\n",
       "      <td>Posted on 01 Sep 2:45 pm, Kurunegala City, Kur...</td>\n",
       "    </tr>\n",
       "    <tr>\n",
       "      <th>1</th>\n",
       "      <td>Jaguar XF Fully Loaded 2013 for sale</td>\n",
       "      <td>Posted on 28 Sep 10:23 am, Kurunegala City, Ku...</td>\n",
       "    </tr>\n",
       "    <tr>\n",
       "      <th>2</th>\n",
       "      <td>Toyota CHR GT New Face 2wd 2020 for sale</td>\n",
       "      <td>Posted on 16 Sep 1:16 pm, Colombo 7, Colombo</td>\n",
       "    </tr>\n",
       "    <tr>\n",
       "      <th>3</th>\n",
       "      <td>Toyota CHR Toyato 2017 for sale</td>\n",
       "      <td>Posted on 30 Sep 10:12 am, Colombo 7, Colombo</td>\n",
       "    </tr>\n",
       "    <tr>\n",
       "      <th>4</th>\n",
       "      <td>Toyota Land Cruiser Prado 2015 for sale</td>\n",
       "      <td>Posted on 30 Sep 9:50 pm, Kelaniya, Gampaha</td>\n",
       "    </tr>\n",
       "    <tr>\n",
       "      <th>...</th>\n",
       "      <td>...</td>\n",
       "      <td>...</td>\n",
       "    </tr>\n",
       "    <tr>\n",
       "      <th>123966</th>\n",
       "      <td>Honda Insight Ze3 2012</td>\n",
       "      <td>Posted by Duminda on 2021-11-04 11:41 pm, Ja-Ela</td>\n",
       "    </tr>\n",
       "    <tr>\n",
       "      <th>123967</th>\n",
       "      <td>HINO Dutro 2011 Lorry</td>\n",
       "      <td>Posted by Areej on 2021-11-04 11:39 pm, Colombo</td>\n",
       "    </tr>\n",
       "    <tr>\n",
       "      <th>123968</th>\n",
       "      <td>TVS King 2017 Three</td>\n",
       "      <td>Posted by Safan on 2021-11-04 11:38 pm, Colombo</td>\n",
       "    </tr>\n",
       "    <tr>\n",
       "      <th>123969</th>\n",
       "      <td>Toyota Vitz 2018</td>\n",
       "      <td>Posted by Sampath Kodithuwakku on 2021-11-04 1...</td>\n",
       "    </tr>\n",
       "    <tr>\n",
       "      <th>123970</th>\n",
       "      <td>Suzuki Alto 2015</td>\n",
       "      <td>Posted by Seller on 2021-11-04 11:37 pm, Kandy</td>\n",
       "    </tr>\n",
       "  </tbody>\n",
       "</table>\n",
       "<p>123971 rows × 2 columns</p>\n",
       "</div>"
      ],
      "text/plain": [
       "                                           Title  \\\n",
       "0              Honda Vezel Limited 2017 for sale   \n",
       "1           Jaguar XF Fully Loaded 2013 for sale   \n",
       "2       Toyota CHR GT New Face 2wd 2020 for sale   \n",
       "3                Toyota CHR Toyato 2017 for sale   \n",
       "4        Toyota Land Cruiser Prado 2015 for sale   \n",
       "...                                          ...   \n",
       "123966                    Honda Insight Ze3 2012   \n",
       "123967                     HINO Dutro 2011 Lorry   \n",
       "123968                       TVS King 2017 Three   \n",
       "123969                          Toyota Vitz 2018   \n",
       "123970                          Suzuki Alto 2015   \n",
       "\n",
       "                                                Sub_title  \n",
       "0       Posted on 01 Sep 2:45 pm, Kurunegala City, Kur...  \n",
       "1       Posted on 28 Sep 10:23 am, Kurunegala City, Ku...  \n",
       "2            Posted on 16 Sep 1:16 pm, Colombo 7, Colombo  \n",
       "3           Posted on 30 Sep 10:12 am, Colombo 7, Colombo  \n",
       "4             Posted on 30 Sep 9:50 pm, Kelaniya, Gampaha  \n",
       "...                                                   ...  \n",
       "123966   Posted by Duminda on 2021-11-04 11:41 pm, Ja-Ela  \n",
       "123967    Posted by Areej on 2021-11-04 11:39 pm, Colombo  \n",
       "123968    Posted by Safan on 2021-11-04 11:38 pm, Colombo  \n",
       "123969  Posted by Sampath Kodithuwakku on 2021-11-04 1...  \n",
       "123970     Posted by Seller on 2021-11-04 11:37 pm, Kandy  \n",
       "\n",
       "[123971 rows x 2 columns]"
      ]
     },
     "execution_count": 20,
     "metadata": {},
     "output_type": "execute_result"
    }
   ],
   "source": [
    "#view content of title and sub title columns\n",
    "vehicle_df[[\"Title\", \"Sub_title\"]]"
   ]
  },
  {
   "cell_type": "markdown",
   "metadata": {},
   "source": [
    "#### Brand"
   ]
  },
  {
   "cell_type": "code",
   "execution_count": 23,
   "metadata": {},
   "outputs": [
    {
     "data": {
      "text/plain": [
       "0          Honda\n",
       "1         Jaguar\n",
       "2         Toyota\n",
       "3         Toyota\n",
       "4         Toyota\n",
       "           ...  \n",
       "123966     Honda\n",
       "123967      HINO\n",
       "123968       TVS\n",
       "123969    Toyota\n",
       "123970    Suzuki\n",
       "Name: Brand, Length: 123971, dtype: object"
      ]
     },
     "execution_count": 23,
     "metadata": {},
     "output_type": "execute_result"
    }
   ],
   "source": [
    "#view brand column\n",
    "vehicle_df.Brand"
   ]
  },
  {
   "cell_type": "code",
   "execution_count": 25,
   "metadata": {},
   "outputs": [
    {
     "data": {
      "text/plain": [
       "array(['Honda', 'Jaguar', 'Toyota', 'Mitsubishi', 'Suzuki', 'MG',\n",
       "       'Peugeot', 'BMW', 'Mercedes Benz', 'Mazda', 'Land Rover',\n",
       "       'Hyundai', 'Micro', 'Audi', 'Daihatsu', 'Nissan', 'Lexus', 'Kia',\n",
       "       'Tata', 'Perodua', 'Ford', 'Chery', 'Renault', 'Aston Martin',\n",
       "       'Chevrolet', 'Other brand', 'Subaru', 'Alfa Romeo', 'Zotye',\n",
       "       'DFSK', 'Mahindra', 'Skoda', 'Volkswagen', 'Maruti Suzuki', 'Jeep',\n",
       "       'Ssang Yong', 'Hummer', 'Datsun', 'Tesla', 'Mini', 'Isuzu', 'Fiat',\n",
       "       'Porsche', 'Morris', 'Austin', 'Opel', 'Daewoo', 'Proton', 'Volvo',\n",
       "       'Rover', 'Chrysler', 'Maruti', 'Geely', 'Citroen', 'Smart',\n",
       "       'Moto Guzzi', 'Vauxhall', 'Pontiac', 'SEAT', 'Changan', 'Buick',\n",
       "       'TVS', 'Hero', 'Mercedes-Benz', 'Bajaj', 'Piaggio', 'Yamaha',\n",
       "       'Other', 'JAC', 'FAW', 'Ashok-Leyland', 'Komatsu', 'Kubota',\n",
       "       'Eicher', 'Massey-Ferguson', 'Ranomoto', 'Force', 'Demak',\n",
       "       'Hero-Honda', 'Sonalika', 'Foton', 'Kinetic', 'Yanmar', 'Kobelco',\n",
       "       'Loncin', 'Singer', 'HINO', 'New-Holland', 'Ceygra', 'Aprilia',\n",
       "       'Land-Rover', 'TAFE', 'Sakai', 'Daido', 'JiaLing', 'Kawasaki',\n",
       "       'Ssangyong', 'John-Deere', 'Hillman', 'Minnelli', 'Yuejin', 'JCB',\n",
       "       'Hitachi', 'KTM', 'CAT', 'JMC', 'Range-Rover', 'Vespa', 'Higer',\n",
       "       'Acura', 'Powertrac', 'Atco', 'Willys', 'Aston', 'Swaraj', 'Cal',\n",
       "       'Zongshen', 'Iveco', 'Alfa-Romeo', 'Triumph', 'KMC', 'Bentley',\n",
       "       'Rolls-Royce'], dtype=object)"
      ]
     },
     "execution_count": 25,
     "metadata": {},
     "output_type": "execute_result"
    }
   ],
   "source": [
    "#view unique brands\n",
    "vehicle_df.Brand.unique()"
   ]
  },
  {
   "cell_type": "code",
   "execution_count": 27,
   "metadata": {},
   "outputs": [
    {
     "name": "stdout",
     "output_type": "stream",
     "text": [
      "There are 123 unique vehicle brands.\n"
     ]
    }
   ],
   "source": [
    "#how many brands are there?\n",
    "print(f\"There are {vehicle_df.Brand.nunique()} unique vehicle brands.\")"
   ]
  },
  {
   "cell_type": "code",
   "execution_count": 29,
   "metadata": {},
   "outputs": [
    {
     "data": {
      "image/png": "[encoded data removed]",
      "text/plain": [
       "<Figure size 640x480 with 1 Axes>"
      ]
     },
     "metadata": {},
     "output_type": "display_data"
    }
   ],
   "source": [
    "#what are the top 3 brands\n",
    "top3_brands = vehicle_df.Brand.value_counts().head(3)\n",
    "\n",
    "#plot top3 brands\n",
    "top3_brands.plot(kind=\"bar\")\n",
    "plt.title(\"Top 3 Vehicle Brand\")\n",
    "plt.xlabel(\"Brand\")\n",
    "plt.ylabel(\"Count\")\n",
    "plt.show()"
   ]
  },
  {
   "cell_type": "code",
   "execution_count": null,
   "metadata": {},
   "outputs": [],
   "source": []
  }
 ],
 "metadata": {
  "colab": {
   "include_colab_link": true,
   "provenance": []
  },
  "kernelspec": {
   "display_name": "Python 3 (ipykernel)",
   "language": "python",
   "name": "python3"
  },
  "language_info": {
   "codemirror_mode": {
    "name": "ipython",
    "version": 3
   },
   "file_extension": ".py",
   "mimetype": "text/x-python",
   "name": "python",
   "nbconvert_exporter": "python",
   "pygments_lexer": "ipython3",
   "version": "3.12.3"
  }
 },
 "nbformat": 4,
 "nbformat_minor": 4
}
